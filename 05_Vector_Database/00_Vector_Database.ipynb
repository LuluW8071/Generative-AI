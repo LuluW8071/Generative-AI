{
 "cells": [
  {
   "cell_type": "markdown",
   "metadata": {},
   "source": [
    "## Vector\n",
    "\n",
    "A vector is like a list of numbers that represent something. Imagine you’re describing a point on a map using coordinates (like latitude and longitude). Similarly, a vector is a way to describe something with numbers.\n",
    "\n",
    "**Example:**\n",
    "If you have a picture of a cat, a vector could be used to represent this cat by listing numbers that describe various features of the picture.\n",
    "\n",
    "\n",
    "## Embeddings\n",
    "\n",
    "Embeddings are a special kind of vector that helps computers understand complex things, like words or images, in a way that makes them easier to work with. Think of embeddings as a way to turn something complex into a list of numbers that a computer can easily understand.\n",
    "\n",
    "**Example:**\n",
    "If you have the word \"apple,\" an embedding would turn it into a vector of numbers. This vector helps the computer understand the meaning of \"apple\" in relation to other words.\n",
    "\n",
    "<div align=\"center\">\n",
    "\n",
    "![Embeddings](https://miro.medium.com/v2/1*UCKRYEj85S3eH1uv1vFfCw.gif) &nbsp; &nbsp;\n",
    "<img src=\"https://cdn.sanity.io/images/vr8gru94/production/e016bbd4d7d57ff27e261adf1e254d2d3c609aac-2447x849.png\" width=\"800px\" height=\"340px\">\n",
    "</div>\n",
    "\n",
    "<div align=\"center\">\n",
    "\n",
    "| Embeddings without DL | Embeddings with DL | Others |\n",
    "| -------------- | ----------- | -- |\n",
    "|TF-IDF|Word2Vec| Glove (Matrix Factorization Based) |\n",
    "|N-Gram|FastText| |\n",
    "|Document Matrix(BoW)|ELMO| |\n",
    "|Integer Embeddings|BERT| |\n",
    "\n",
    "</div>\n",
    "\n",
    "### Rise of Embeddings with Deep Learning\n",
    "\n",
    "| **Aspect**               | **Old Embeddings (Without Deep Learning)**           | **New Embeddings (With Deep Learning)**             |\n",
    "|--------------------------|--------------------------------------------------------|------------------------------------------------------|\n",
    "| **Context**              | Use the same meaning for a word no matter where it appears. | Adjust the meaning of a word based on the surrounding words. |\n",
    "| **Meaning**              | Can struggle to show subtle differences in meaning.    | Better at capturing and showing subtle differences in meaning. |\n",
    "| **Multiple Meanings**    | Uses the same representation for words that have different meanings in different contexts. | Changes the representation of a word depending on its context. |\n",
    "| **Adaptability**         | Fixed and can’t easily adjust to new information or topics. | Can be updated and improved with new data or for specific topics. |\n",
    "| **Feature Learning**     | Needs a lot of manual work to figure out how to represent words. | Automatically learns and discovers useful features from large amounts of data. |\n",
    "\n",
    "# Vector Database\n",
    "\n",
    "<div align=\"center\">\n",
    "\n",
    "![Vector Database](https://media.licdn.com/dms/image/D4D12AQGUdm5ihoYn7g/article-cover_image-shrink_720_1280/0/1721633686634?e=2147483647&v=beta&t=ooUnHyUPRZaKkUMnSrOZHrEw-fkSqYWenLjvi2ygFRY)\n",
    "</div>\n",
    "\n",
    "A **vector database** indexes and stores high-dimensional vectors such as word embeddings and image embeddings for fast retrieval and similarity search, with capabilities like CRUD operations, metadata filtering, horizontal scalling and serverless.\n",
    "\n"
   ]
  },
  {
   "cell_type": "code",
   "execution_count": null,
   "metadata": {},
   "outputs": [],
   "source": []
  }
 ],
 "metadata": {
  "language_info": {
   "name": "python"
  }
 },
 "nbformat": 4,
 "nbformat_minor": 2
}
