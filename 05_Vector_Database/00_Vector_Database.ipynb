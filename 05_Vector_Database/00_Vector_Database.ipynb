{
 "cells": [
  {
   "cell_type": "markdown",
   "metadata": {},
   "source": [
    "# Vector Database\n",
    "\n",
    "<div align=\"center\">\n",
    "\n",
    "![Vector Database](https://media.licdn.com/dms/image/D4D12AQGUdm5ihoYn7g/article-cover_image-shrink_720_1280/0/1721633686634?e=2147483647&v=beta&t=ooUnHyUPRZaKkUMnSrOZHrEw-fkSqYWenLjvi2ygFRY)\n",
    "</div>\n",
    "\n",
    "A **vector database** indexes and stores high-dimensional vectors such as word embeddings and image embeddings for fast retrieval and similarity search, with capabilities like CRUD operations, metadata filtering, horizontal scalling and serverless.\n",
    "\n"
   ]
  },
  {
   "cell_type": "code",
   "execution_count": null,
   "metadata": {},
   "outputs": [],
   "source": []
  }
 ],
 "metadata": {
  "language_info": {
   "name": "python"
  }
 },
 "nbformat": 4,
 "nbformat_minor": 2
}
