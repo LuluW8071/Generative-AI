{
 "cells": [
  {
   "cell_type": "markdown",
   "metadata": {},
   "source": [
    "# LangChain\n",
    "\n",
    "<div align=\"center\">\n",
    "    \n",
    "![LangChain](https://codingthesmartway.com/_astro/title.21ab4540.png)\n",
    "</div>"
   ]
  },
  {
   "cell_type": "markdown",
   "metadata": {},
   "source": [
    "## 06. Retrievers\n",
    "\n",
    "<div align=\"center\">\n",
    "\n",
    "![Retrieve](https://python.langchain.com/v0.1/assets/images/data_connection-95ff2033a8faa5f3ba41376c0f6dd32a.jpg)\n",
    "</div>\n",
    "\n",
    "In many scenarios, you might need to access user-specific or domain-specific data that isn't included in the pre-existing training set of language models. **Retrieval Augmented Generation (RAG)** addresses this need by combining information retrieval with text generation. This technique allows language models to dynamically fetch and incorporate relevant external data, improving the relevance and accuracy of their responses.\n",
    "\n",
    "### LangChain and RAG\n",
    "\n",
    "LangChain offers robust support for implementing **RAG** by integrating data from various sources like\n",
    "\n",
    "- **CSV Files**\n",
    "\n",
    "- **PDF Documents**\n",
    "\n",
    "- **Web Pages**\n",
    "\n",
    "- **HTML Content**\n",
    "\n",
    "- **Markdown Files**\n",
    "\n",
    "LangChain’s built-in functionalities for these data sources enable the creation of systems that can dynamically integrate external information, enhancing the language model’s ability to provide accurate and contextually relevant responses.\n",
    "\n",
    "### 6.1 Document Loaders\n",
    "\n",
    "#### [Reference Docs](https://python.langchain.com/v0.1/docs/modules/data_connection/document_loaders/)\n",
    "\n",
    "Document loaders are the components responsible for fetching and loading documents from various sources. These loaders can be used to ingest data from PDFs, CSV files, web pages, and other sources into LangChain-compatible documents.\n",
    "\n",
    "\n",
    "#### 6.1.1 PDF\n",
    "\n",
    "##### [Reference Docs](https://python.langchain.com/v0.1/docs/modules/data_connection/document_loaders/pdf/)\n",
    "\n",
    "In order to read the contents of a **PDF File**, you will need to install `pypdf` module:\n",
    "\n",
    "```bash\n",
    "pip install pypdf\n",
    "```\n",
    "\n",
    "> Meanwhile lets download a research paper based on [**Neural Machine Translation**](https://www.researchgate.net/publication/355917108_Neural_Machine_Translation_with_Attention). \n",
    ">\n",
    "> You can also download other research papers __arxiv__, __research gate__, __papers with code__ and so on. "
   ]
  },
  {
   "cell_type": "code",
   "execution_count": 1,
   "metadata": {},
   "outputs": [
    {
     "data": {
      "text/plain": [
       "<langchain_community.document_loaders.pdf.PyPDFLoader at 0x719eef3af150>"
      ]
     },
     "execution_count": 1,
     "metadata": {},
     "output_type": "execute_result"
    }
   ],
   "source": [
    "# Import Document Loader for pdf\n",
    "from langchain_community.document_loaders import PyPDFLoader\n",
    "\n",
    "# Read the pdf file\n",
    "doc_loader = PyPDFLoader(\"../assets/MachineTranslationwithAttention.pdf\")\n",
    "doc_loader"
   ]
  },
  {
   "cell_type": "code",
   "execution_count": 2,
   "metadata": {},
   "outputs": [
    {
     "data": {
      "text/plain": [
       "[Document(metadata={'source': '../assets/MachineTranslationwithAttention.pdf', 'page': 0}, page_content='See discussions, st ats, and author pr ofiles f or this public ation at : https://www .researchgate.ne t/public ation/355917108\\nNeu ral Machine T ranslation with Attention\\nTechnic al R eport  · August 2021\\nDOI: 10.13140/RG.2.2.29381.37607/1\\nCITATION\\n1READS\\n5,448\\n2 author s:\\nMohammad W asil Saleem\\nUniv ersität P otsdam\\n4 PUBLICA TIONS \\xa0\\xa0\\xa02 CITATIONS \\xa0\\xa0\\xa0\\nSEE PROFILE\\nSandeep Upr ety\\nUniv ersität P otsdam\\n1 PUBLICA TION \\xa0\\xa0\\xa01 CITATION \\xa0\\xa0\\xa0\\nSEE PROFILE\\nAll c ontent f ollo wing this p age was uplo aded b y Sandeep Upr ety on 05 No vember 2021.\\nThe user has r equest ed enhanc ement of the do wnlo aded file.'),\n",
       " Document(metadata={'source': '../assets/MachineTranslationwithAttention.pdf', 'page': 1}, page_content='Neural Machine Translation with Attention\\nMohammad Wasil Saleem\\nMatrikel-Nr.: 805779\\nUniversit ¨at Potsdam\\nsaleem1@uni-potsdam.deSandeep Uprety\\nMatrikel-Nr. 804982\\nUniversit ¨at Potsdam\\nuprety@uni-potsdam.de\\nAbstract\\nIn recent years, the success achieved\\nthrough neural machine translation has\\nmade it mainstream in machine translation\\nsystems. In this work, encoder-decoder\\nwith attention system based on ”Neural\\nMachine Translation by Jointly Learning\\nto Align and Translate” by Bahdanau et al.\\n(2014) has been used to accomplish the\\nMachine Translation between English and\\nSpanish Language which has not seen\\nmuch research work done as compared\\nto other languages such as German and\\nFrench. We aim to demonstrate the re-\\nsults similar to the breakthrough paper on\\nwhich our work is based on. We achieved\\na BLEU score of 25.37, which was close\\nenough to what Bahdanau et al. (2014)\\nachieved in their work.\\n1 Introduction\\nMachine Translation (MT) is the task of translat-\\ning text without human assistance while preserv-\\ning the meaning of input text. The early approach\\nto machine translation relied heavily on hand-\\ncrafted translation rules and linguistic knowledge.\\nStarted in early around 1950s, unlike rule-based\\nmachine translation, Statistical machine transla-\\ntion (SMT) generated translations based on statis-\\ntical models whose parameters are derived from\\nthe analysis of bilingual text corpora (Koehn et al.,\\n2003). Though reliable, for SMT, it can be hard\\nto ﬁnd content for obscure languages and is less\\nsuitable for language pairs with big differences\\nin word order making the quality of translation\\nfar from satisfactory. With the progress in deep\\nlearning being applied to MT, in 2014, end-to-end\\nneural network translation model was proposed\\nby (Bahdanau et al., 2014; Sutskever et al., 2014)\\nwhere the term ”neural machine translation” wasformally used. Neural machine translation (NMT)\\nis the newest method of MT that uses a single\\nlarge neural network to model the entire transla-\\ntion process, freeing the need for excessive fea-\\nture engineering. Through the rapid research and\\nbreakthroughs, end-to-end neural machine trans-\\nlation has gained remarkable performances (Shi\\net al., 2021; Bahdanau et al., 2014) and have be-\\ncome mainstream approach to MT.\\n2 Related Work\\nEarly problem of NMT was often the poor trans-\\nlation for long sentences (Sutskever et al., 2014)\\nwhich can be attributed to the ﬁxed-length of\\nsource encoding in conventional encoder-decoder\\nas suggested by Cho et al. (2014a) for which the\\nconcept of attention to NMT was introduced by\\nBahdanau et al. (2014) to avoid keeping a ﬁxed\\nsource side representation.\\nAs compared to separately tuned components in\\nSMT, newly emerging Neural Machine translation\\nradically departures from previous machine learn-\\ning approaches as the training of NMT is end-to-\\nend which has signiﬁcantly improved translation\\nquality across 30 different languages (Junczys-\\nDowmunt et al., 2016). NMT model can be attrac-\\ntive for various reason one being scalability issue,\\nwhether it be memory requirements or computa-\\ntional speed. Another being able to train all the\\ncharacter embedding as each characters frequently\\noccurs in the training corpus.\\nMost neural machine translation models pro-\\nposed use encoder-decoder where a neural net-\\nwork reads and encodes a source sentence into\\na ﬁxed-length vector and a decoder then outputs\\na translation from the encoded vector, where in\\nmost of the cases the encoder and decoder are\\nmainly implemented as RNNs, CNNs or self-\\nattention network (Wu et al., 2018). The whole\\nencoder–decoder system, which consists of the\\nencoder and the decoder for a language pair, is'),\n",
       " Document(metadata={'source': '../assets/MachineTranslationwithAttention.pdf', 'page': 2}, page_content='jointly trained to maximize the probability of a\\ncorrect translation given a source sentence (Bah-\\ndanau et al., 2014). After the initial proposal by\\n(Sutskever et al., 2014; Bahdanau et al., 2014),\\nmuch work has been done on the sequence-to-\\nsequence neural machine translation model rang-\\ning from new attention mechanism (Luong et al.,\\n2015) to working on the problem of out-of-\\nvocabulary words (Jean et al., 2015) for which se-\\nquential RNNs are used both for encoding source\\nsentences and generating target translation.\\nWe draw our inspiration for machine transla-\\ntion with attention from Bahdanau et al. (2014).\\nWe have chosen to base our project on this paper\\nas attention mechanism has been widely used as\\nbaseline and is thoroughly studied among the NLP\\ncommunity.\\n3 Model\\nMachine Translation is equivalent to maximizing a\\nconditional probability of a target sentence given\\nthe source sentence. In Neural Machine Trans-\\nlation, we parameterize it to maximise the condi-\\ntional probability. The approach used by Cho et al.\\n(2014b) was to encode the source sentence into\\na ﬁxed-length vector, which becomes difﬁcult to\\ncompress all the necessary information into a ﬁxed\\nlength vector, which makes it difﬁcult for the Neu-\\nral Network to handle long sentences, and thus the\\nperformance of the encoder-decoder drops as the\\nlength of the sentences increases. So we use the\\nmodel proposed by Bahdanau et al. (2014), where\\nit does not encode the input sentence into a ﬁxed-\\nlength vector, rather than it simply encodes the in-\\nput sentence into sequence of vectors, and while\\ndecoding the translation, it select subset of vectors\\nfrom the using attention mechanism. And Bah-\\ndanau et al. (2014) showed that encoder decoder\\nmodel with attention mechanism cope better with\\nlong sentences. In the next section, we will ﬁrst\\ngive a brief introduction on encoder-decoder, the\\nRNN, and one of its type, GRU, the one we used\\nin our model and ﬁnally the attention mechanism.\\n3.1 Encoder-Decoder\\nEncoder-Decoder, ﬁrst proposed by Cho et al.\\n(2014b), basically consists of 2 parts, the encoder\\nand the decoder. Encoder codes the sequence\\nof input sentence into dense vector representa-\\ntion, and then decoder takes in the encoded sen-\\ntence and decode the representation into anothersequences of words. They are trained to maximize\\nthe conditional probability of the output sentence,\\ngiven the input sentence.\\nRNN is necessary when we need to maintain the\\nword order in a sentence. This is not handled by\\nbags of words model or other statistical models. In\\naddition to input, xiand output ˆyi, we also have a\\nstate vector, ai, which is initialized with vectors of\\nzeros.iwould be the ithtimestep In the ﬁrst layer\\nof RNN, the input and state vector is fed into the\\nrecurrent unit, the recurent unit may look like1:\\nat=f(Waaat−1+Waxxi),\\nand,\\nˆyt=g(Wyaat)\\nwhere, t is the time step, Waais the weights be-\\ntween two hidden layer, Waxis the weight be-\\ntween input and hidden layer, and Wyais the\\nweight between hidden and the output layer, and\\nfcan betanh orRelu activation function, and g\\ncan besigmoid orsoftmax activation function.\\nAfter feeding the input to rnn unit, it returns a new\\nstate vector in the next time step. This new state\\nvector will be mapped to the output vector using\\nsome function. This output vector can be used as\\na prediction. The new state vector is cached and is\\npassed across the next unit of the RNN, along with\\nthe input in order for it to return the next state vec-\\ntor. This happens recursively for all the input ele-\\nments. So, when the model is reading the second\\nword, instead of just predicting output using only\\nthe second word, it also gets information from the\\nprevious time step (ﬁrst word) in terms of the state\\nvector.\\nOne of the problem of RNN is that it runs into\\nthe problem of Vaishing gradient, ﬁrst described\\nby Hochreiter (1998). This happens when we have\\na very long sentence, which tends to have long\\nterm dependencies. That means a word at the end'),\n",
       " Document(metadata={'source': '../assets/MachineTranslationwithAttention.pdf', 'page': 2}, page_content='the problem of Vaishing gradient, ﬁrst described\\nby Hochreiter (1998). This happens when we have\\na very long sentence, which tends to have long\\nterm dependencies. That means a word at the end\\nof the sentence would be semantically dependent\\non the word occurring at the beginning of the sen-\\ntence. So, the gradients during the backpropaga-\\ntion step would have a very hard time propagating\\nback to affect the words or weights of the earlier\\nunits. The gradients diminishes in the backpropa-\\ngation step and not able to reach the earlier units.\\nGenerally, RNN has local inﬂuences where a word\\nis mainly inﬂuenced by words closed to it. So that\\nmakes it difﬁcult for the output at the later unit\\n1https://www.coursera.org/learn/nlp-sequence-\\nmodels/home/welcome'),\n",
       " Document(metadata={'source': '../assets/MachineTranslationwithAttention.pdf', 'page': 3}, page_content='Figure 1: The left diagram represents Long Short Term Memory Unit, with ias an Input gate, oas an\\nOutput Gate, and fas a Forget Gate. The right diagram represents Gated Recurrent Unit, with ras Reset\\nGate, andzas an Update Gate. (Chung et al., 2014)\\nto be strongly inﬂuenced by a word that was very\\nearly in the sequence.\\nBut we can further improve the training by us-\\ning other RNN units, like GRU (Chung et al.,\\n2014) or LSTM (Hochreiter and Schmidhuber,\\n1997), which are better at capturing long-range de-\\npendencies. The state vector in simple RNN can\\nbe considered as a memory, where the memory ac-\\ncess was not controlled. At each step, the entire\\nmemory state was read and updated. But in GRU\\nand LSTM, we use a gating mechanism to control\\nthe memory. Since, we used GRU in our model,\\nso we will only describe GRU here.\\nIn GRU, (Chung et al., 2014; Rana, 2016), the\\nactivationhj\\ntis a linear interpolation between the\\nprevious activation hj\\nt−1and the candidate ativa-\\ntion˜hj\\nt:\\nhj\\nt= (1−zj\\nt)hj\\nt−1+zj\\nt˜hj\\nt\\nwhere,zj\\ntis the update gate, that decides how\\nmuch GRU units updates its activation [See Fig.\\n1]. The update gate is given by :\\nzj\\nt=σ(Wzxt+Uzht−1)j.\\nAnd the candidate activation ˆhj\\ntis computed by :\\nˆhj\\nt=tanh (Wx t+U(rt⊙ht−1))j,\\nwhere⊙denotes element-wise multiplication and\\nrj\\ntare reset gates. When a reset gate at speciﬁc\\ntime, t is set to 0, i.e. rj\\nt== 0 , which makes the\\nGRU to forget the past, i.e. forget the previousstate vectors. This is considered same as reading\\nthe ﬁrst word of the input sentence. And ﬁnally,\\nwe can compute the reset gate by :\\nrj\\nt=σ(Wrxt+Urht−1)j.\\nOne of the weakness of RNN is that it only uses\\ninformation that is earlier in the sequence to make\\npredictions but not the information which are later\\nin the sequence. When predicting the output at\\ntime step i, it does not use the word at time step i+1\\nor i+2 or any other words in the later time step. So,\\nit would be useful to know not just the information\\nfrom the words from the previous time step but\\nalso the information from the later time steps.\\nSo, we use Bidirectional RNN, ﬁrst proposed\\nby (Schuster and Paliwal, 1997). From a point\\nin time, it takes information from both the ear-\\nlier and later time step in the sequence. The\\nFirst RNN, which we called forward RNN,− →fis\\nfed the input sequence as it is. And the second\\nRNN, which is also called backward RNN,← −f\\nis fed the input sequence in reverse order. This\\ngives two separate state vectors – a forward state\\nvector,− →hT\\nj, and a backward state vector← −hT\\nj.\\n− →hT\\njwould be a sequence of forward hidden state\\nvectors, (− →h1,...,− →hTx), and similarly, backward\\nstate vector← −hT\\njwould be a sequence of backward\\nhidden state vector, (← −h1,...,← −hTx). And the out-\\nput at a speciﬁc timestep is accounted by the con-\\ncatenation of output of two RNN’s, concatenating− →hjand← −hj, i.e.hj= [− →hT\\nj,← −hT\\nj]. So, when pre-\\ndicting the output at a speciﬁc time step, it will'),\n",
       " Document(metadata={'source': '../assets/MachineTranslationwithAttention.pdf', 'page': 4}, page_content='Figure 2: Attention Model (Luong et al., 2015)\\nuse the information from the past, present as well\\nas from the future. We need the entire sequence of\\ndata before we can make any predictions.\\nThe architecture that we are proposing here is\\nbased on the Encoder-Decoder Framework. The\\nencoder takes in the input sentence and converts\\nthem into a vector representation\\nThe encoder can be an RNN (Cho et al., 2014b)\\nor LSTM unit (Sutskever et al., 2014). They pro-\\ncesses the input sentence, pass it through RNN or\\nLSTM, and when it encounters the end of sen-\\ntence, then the hidden state, that captured all the\\nrelevant information passes it to the decoder. Then\\nthis information is used to predict the translations\\nin the decoder, which can be RNN or LSTM, until\\nit predicts the end of the sentence token. The hid-\\nden state needs to remember every word from the\\ninput sentence. So that is why this model tends to\\nwork for short sentences and not long sentences.\\nEven though if we used LSTM or GRU, which\\ntends to remember the words that occured very\\nearly in the sequence, it will still not be able to\\nlearn the alignment between the source word and\\nthe target word. They often forget the initial part\\nof the sentence once they are processed in the en-\\ncoder. That is why we use an alignment mecha-\\nnism called attention. They help to memorize this\\ninformation for longer sentences. But we need to\\nlearn this alignment. It can vary from language to\\nlanguage.3.2 Attention\\nIn this section, we will speciﬁcally deﬁne the\\nalignment mechanism, [See Figure 2] that we used\\nin our model. In RNN Encoder-Decoder model\\n(Sutskever et al., 2014), we faced with the bottle-\\nneck problem, where the complete sequence of in-\\nformation of the source sentence, must be captured\\nby one single vector, i.e. the last hidden unit of the\\nencoder RNN is used as a context vector for the\\ndecoder, which becomes difﬁcult for the decoder\\nto summarise large input sequence at once. This\\nalso poses a problem where the encoder is not able\\nto memorize the words coming at the beginning\\nof the sentences, which leads to poor translation\\nof the source sentence. The Attention mechanism\\njust addresses this issue, by retaining and utilising\\nall the hidden state of the input sentence during the\\ndecoding phase.\\nDuring the decoding phase, the model creates\\nan alignment between each time step of the de-\\ncoder output and all of the encoder hidden state.\\nWe need to learn this alignment. Each output of\\nthe decoder can selectively pick out speciﬁc ele-\\nments from the sequence to produce the output.\\nSo, this allows the model to focus and pay more\\n”Attention” to the relevant part of the input se-\\nquence.\\nThe ﬁrst attention model was proposed by Bah-\\ndanau et al. (2014), there are several other types of\\nattention proposed, such as the one by Luong et al.'),\n",
       " Document(metadata={'source': '../assets/MachineTranslationwithAttention.pdf', 'page': 5}, page_content='Spanish en la estrategia 2020 , reconocimos el hecho de que , si queremos mantener nuestro\\nnivel de prosperidad en europa , tenemos que aumentar nuestra productividad .\\nEnglish in the 2020 strategy , we acknowledged the fact that , if we are to maintain our level\\nof prosperity in europe , we need to increase our productivity .\\nSpanish sin embargo , es algo que debemos hacer si queremos demostrar a los estados unidos\\nque nos deben considerar como un socio serio en la alianza contra el terrorismo .\\nEnglish yet do it we must , if we are to demonstrate to the usa that we are to be taken\\nseriously as a partner in an alliance against terrorism .\\nSpanish sabr´an ustedes que fue tambi ´en a instancias de esta c ´amara que la comisi ´on entabl ´o\\nnegociaciones , y estas han dado un resultado encomiable .\\nEnglish you will be aware that it was not least at the insistence of this house that the com-\\nmission entered into negotiations , and these have produced a creditable result .\\nTable 1: Examples of Spanish and English sentences from the dataset\\n(2015).\\nWe will only discuss the attention model, pro-\\nposed by Bahdanau et al. (2014). After the in-\\nput sequence is passed through the encoder, it pro-\\nduces hidden state for each of the elements in the\\nsequence (h1,...,h Tx). Then we multiply the de-\\ncoders hidden state at time step t (s1,...,s Ty),\\nwith all of the encoders hidden state, which gives\\nus the alignment score of each of the encoder out-\\nput with respect to the decoder input and hidden\\nstate at that time step:\\net= [sT\\nth1,...,sT\\nthTx]\\nThe alignment score quantiﬁes the amount of\\nAttention the decoder will place on each of the en-\\ncoder outputs when producing the next output, so\\ninstead of looking at the entire sequence, it just\\nconcentrate on few relevant parts of the sequence\\nwhen predicting the next word.\\nAfter calculating the alignment score, we pass\\nthe vectoretthrough the softmax layer, to calcu-\\nlate the probability distribution.\\nαt=softmax (et)\\nThen we multiply each of the attention weights\\nwith each of the encoder hidden state, to get con-\\ntext vector,at\\nat=Tx∑\\ni=1αt\\nihi\\nIf the attention score of speciﬁc element of the\\ninput sequence is close to 1, then its inﬂuence on\\nthe decoder output at that speciﬁc time step in-\\ncreases. And then ﬁnally, the context vector atproduced will be concatenated with the decoder\\nhidden state, st, i.e.\\n˜ht= [at,st]\\nand is fed into decoder RNN, which produces new\\nhidden state.\\n4 Data\\nWe used a Parallel Corpus for English-Spanish\\nlanguage, which was extracted from the proceed-\\nings of the European Parliament, also called Eu-\\nroparl dataset (Koehn, 2005). It contains 1.96\\nMillion sentences, each for English and Spanish.\\nMost common words and count for both languages\\nare shown below:\\nWords Count\\nde 1799827\\n, 1456229\\nla 1222089\\nque 992176\\n. 867284\\nen 790382\\nel 696521\\ny 692640\\na 577052\\nlos 548495\\nTable 2: SpanishWords Count\\nthe 1956558\\n, 1371506\\nof 932044\\nto 875415\\n. 864674\\nand 747108\\nin 622426\\nthat 476250\\na 430093\\nis 401782\\nTable 3: English\\nFirst we ﬁlter out all the sentences having words\\ngreater than 50. Then we sort these sentences\\nbased on the number of words in each of the sen-\\ntences, so that we have less padded sentences in\\nour initial indices and sentences with high padding\\nto be at the end of our indices, following with'),\n",
       " Document(metadata={'source': '../assets/MachineTranslationwithAttention.pdf', 'page': 6}, page_content='usual tokenization methods. Only preprocessing\\nwe used was to lower case the words.\\nWe selected 1 million sentences for the model-\\ning due to the hardware constraints. We split the\\ndataset into usual format, i.e. train, test and vali-\\ndation. We used 900K sentences for our training,\\n80K for validation and remaining 20K sentences\\nfor the test set, which was not seen by the model\\nduring training. We did not limit the vocabulary\\nsize to any hard coded number, i.e. to get top N\\nmost frequent words. The vocabulary size we got\\nfrom English sentences was 36838 and for Span-\\nish was 63220. Only token we added was End of\\nSentence and Start of Sentence Tokens. We used\\nSpanish as a source sentence and English as a tar-\\nget sentence. See Table 1.\\n5 Experiments\\nThe encoder and decoder of our model have 256\\nhidden units each. The encoder consist of for-\\nward and backward gated recurrent unit (GRU)\\neach having 256 hidden units. The decoder has\\na single forward gated recurrent unit (GRU), with\\n256 hidden dimensions, unlike 1000 hidden units,\\nas in Bahdanau et al. (2014) due to the hardware\\nlimitations. And we only trained the model for\\nSpanish to English translation.\\nWe used Adam optimizer to train the model, and\\ngradient update is computed with a batch size of\\n32 sentences.\\nWe initialized our weights with xavier (Glo-\\nrot) initializations, (Glorot and Bengio, 2010) with\\nUniform Distribution, U[−a,a], where\\na=√\\n6\\nnin+nout\\nwhereninis the number of input neurons in the\\nweight tensor, and noutis the number of output\\nneurons in the weight tensor.\\nThe total number of trainable parameters were\\n43,564,519. We trained the model for roughly 20\\nhours. After our model was trained, we use greedy\\nsearch to predict the translation for the given input\\nsentence, that maximizes the conditional proba-\\nbility instead of using beam search as mentioned\\nin the paper Bahdanau et al. (2014) due to our\\nunfamiliarity and technical difﬁculty dealing with\\nBeam search.\\nWe, then used BLEU (Papineni et al., 2002)\\nscore to evaluate how the model was working on\\nthe test data.6 Results\\n6.1 Quantitative Results\\nWe trained our model on maximum length of 50\\nsentences, so any length smaller than or equal to\\n50 is used for the training, We trained our model\\nuntil the error on the validation data or the devel-\\nopment data stops decreasing, in order to avoid\\nthe problem of overﬁtting. We achieved a BLUE\\nscore of 25.76on the test data and the error rate for\\nSpanish to English translation was 4.267 on our\\ntest data. According to Bahdanau et al. (2014), we\\ncan say that our model out perform the encoder\\ndecoder model, proposed by Cho et al. (2014b),\\nfor 50 sentences, where they got BLEU score of\\n17.82. Their performance drops when the length\\nof the sentence is increased (Cho et al., 2014b).\\nSo, the limitation of using ﬁxed length vector\\nin simple encoder decoder model in Cho et al.\\n(2014b) work was the reason that it was under per-\\nforming with long sentences.\\nThis was our motivation to use the proposed ap-\\nproach by Bahdanau et al. (2014), where the per-\\nformance of the encoder-decoder with attention\\nshows no deterioration with sentence of length\\ngreater than 50 sentences. The result that we\\ngot which was 25.76 was quite close to the Bah-\\ndanau et al. (2014), where they got BLEU score of\\n26.75,training with 1000 encoder and decoder di-\\nmensions, and training on corpus of 384M words.\\nThey were also able to achieve BLEU score of\\n28.45 when trained the data until the performance\\nof the validation stopped improving.\\n6.2 Qualitative Results\\nThe model proposed by Bahdanau et al. (2014)\\nprovides a way to investigate the soft alignment\\nbetween the translated sentence from the model\\nand the input sentence. The matrix given in Fig\\n3, each of the cells represent the weights αijof\\nthe annotation of the j-th source word for the i-\\nth target word. This helps in visualizing and see\\nwhich word from the input sentence were con-\\nsidered more important for generating the target\\nword.'),\n",
       " Document(metadata={'source': '../assets/MachineTranslationwithAttention.pdf', 'page': 6}, page_content='the annotation of the j-th source word for the i-\\nth target word. This helps in visualizing and see\\nwhich word from the input sentence were con-\\nsidered more important for generating the target\\nword.\\nWe see that majority of the weights are con-\\ncentrated on the diagonal matrix, along with non-\\nmonotonic alignments. The non-monotonic align-\\nments would be high for long sentences, since the\\nwords in long target sentence tends to have depen-\\ndence on more than one word in source sentence.'),\n",
       " Document(metadata={'source': '../assets/MachineTranslationwithAttention.pdf', 'page': 7}, page_content='(a)\\n (b)\\n(c)\\n (d)\\nFigure 3: Alignments translated from Spanish to English by our model. The row represents the translated\\nsentence, English and the column represents the source sentence, Spanish. Each of the cells of the matrix\\nrepresents weights, αij, of the annotation of the j-th source word for the i-th translated word. (1:White,\\n0:Black)'),\n",
       " Document(metadata={'source': '../assets/MachineTranslationwithAttention.pdf', 'page': 8}, page_content='Let us take an example from the test set, con-\\nsider the source sentence:\\nson los estados miembros de la zona del\\neuro los que no han cumplido , en espe-\\ncialla republica federal de alemania que\\nse niega a mantener su promesa.\\nAnd its translation by our model is :\\nthat it is the member states of the euro\\narea which have not complied honour,\\nparticularly the federal republic of ger-\\nmany that refuses to keep their promise\\nto sustain their promise.\\nAnd the reference is:\\nit is the member states of the euro area\\nthat have not delivered - and particu-\\nlarly the federal republic of germany,\\nwhich is refusing to keep its promise.\\nWe can observe from our translated sentence,\\nthe model generates ”have not complied ” , instead\\nof”have not delivered” (from reference sentence),\\nwhich has the same meaning. It tries to preserve\\nthe meaning of the whole sentence, and it does not\\nblindly takes the word from the reference, it tries\\nto generalize.\\nRefer to Table 4 at the end of the paper for\\nmore translations from Spanish to English using\\nEncoder Decoder model with Attention Mecha-\\nnism.\\n7 Discussion\\nAfter trying to achieve the result similar to what\\nwas presented in the paper, we are satisﬁed with\\nour result though there is much that can be im-\\nproved. Limitation caused by the hardware held\\nus back from achieving better results. We used the\\nserver provided by the university and as a backup\\nused google colab for our work, so we had to be\\nwary of the maintenance schedule happening in\\nthe server and the limitation of 24 hrs of work-\\ntime on google colab, which otherwise could in-\\nterrupt while we were training our model. So,\\nto overcome these challenges we decided to use\\n1M sentences from each form Spanish and English\\ndataset, and reduce the parameters for encoder-\\ndecoder.\\nWe also faced problem with length of the vo-\\ncabulary size of English and Spanish sentences,\\nwhere the vocabulary size of the English sen-\\ntence were the output dimension, and vocabularysize of Spanish sentence were input dimensions of\\nour model. This leads to increase in number of\\ntrainable parameters, the decoding complexity in-\\ncreases with number of target words (vocabulary\\nsize of the English), where this problem has been\\naddressed by Jean et al. (2015).\\n8 Conclusion\\nThe approach proposed by Cho et al. (2014b) was\\nto encode the whole sentence into ﬁxed length vec-\\ntor, and this becomes problematic when dealing\\nwith long sentences. We extend this basic encoder-\\ndecoder model by an Attention mechanism (Bah-\\ndanau et al., 2014), where the model searches for\\nthe input word computed from the encoder, which\\nbest align with the target word, when generat-\\ning each target word. This frees the model from\\nhaving to encode the source sentence into a ﬁxed\\nlength vector, only rely on the information rele-\\nvant for generating each target word. We com-\\npared our model for Spanish to English translation\\nwith both of these approaches, and found that our\\nmodel works better than the encoder-decoder ap-\\nproach (Cho et al., 2014b), and have slightly lower\\nresults than the architecture with Attention mech-\\nanism, (Bahdanau et al., 2014). We also observed\\nthat the model tries to align the target word with\\nthe relevant word from the translated sentence.\\nIn the future work, there are several things we\\ncan try. We can train our model on much larger\\ndataset, with a better hardware and with differ-\\nent attention models. We can also focus on how\\nto handle the stop words, punctuation, as we can\\nsee on Table 2 and Table 3, which accounts for\\nthe highest word count, and also to handle the un-\\nknown words, which does not appear in the train-\\ning data, but in the test data.\\nReferences\\nDzmitry Bahdanau, Kyunghyun Cho, and Yoshua\\nBengio. Neural machine translation by jointly\\nlearning to align and translate. arXiv preprint\\narXiv:1409.0473 , 2014.\\nKyunghyun Cho, B. V . Merrienboer, Dzmitry\\nBahdanau, and Yoshua Bengio. On the\\nproperties of neural machine translation: En-'),\n",
       " Document(metadata={'source': '../assets/MachineTranslationwithAttention.pdf', 'page': 8}, page_content='learning to align and translate. arXiv preprint\\narXiv:1409.0473 , 2014.\\nKyunghyun Cho, B. V . Merrienboer, Dzmitry\\nBahdanau, and Yoshua Bengio. On the\\nproperties of neural machine translation: En-\\ncoder–decoder approaches. In SSST@EMNLP ,\\n2014a.\\nKyunghyun Cho, B. V . Merrienboer, C ¸ aglar\\nG¨ulc ¸ehre, Dzmitry Bahdanau, Fethi Bougares,'),\n",
       " Document(metadata={'source': '../assets/MachineTranslationwithAttention.pdf', 'page': 9}, page_content='Holger Schwenk, and Yoshua Bengio. Learn-\\ning phrase representations using rnn en-\\ncoder–decoder for statistical machine transla-\\ntion. In EMNLP , 2014b.\\nJ. Chung, C ¸ aglar G ¨ulc ¸ehre, Kyunghyun Cho, and\\nYoshua Bengio. Empirical evaluation of gated\\nrecurrent neural networks on sequence model-\\ning.ArXiv , abs/1412.3555, 2014.\\nXavier Glorot and Yoshua Bengio. Understanding\\nthe difﬁculty of training deep feedforward neu-\\nral networks. In AISTATS , 2010.\\nS. Hochreiter. The vanishing gradient problem\\nduring learning recurrent neural nets and prob-\\nlem solutions. Int. J. Uncertain. Fuzziness\\nKnowl. Based Syst. , 6:107–116, 1998.\\nS. Hochreiter and J. Schmidhuber. Long short-\\nterm memory. Neural Computation , 9:1735–\\n1780, 1997.\\nS´ebastien Jean, Kyunghyun Cho, R. Memisevic,\\nand Yoshua Bengio. On using very large tar-\\nget vocabulary for neural machine translation.\\nArXiv , abs/1412.2007, 2015.\\nMarcin Junczys-Dowmunt, Tomasz Dwojak, and\\nHieu Hoang. Is neural machine translation\\nready for deployment? a case study on 30 trans-\\nlation directions. 01 2016.\\nPhilipp Koehn. Europarl: A parallel corpus for\\nstatistical machine translation. In MTSUMMIT ,\\n2005.\\nPhilipp Koehn, Franz Josef Och, and Daniel\\nMarcu. Statistical phrase-based translation.\\nInProceedings of the 2003 Conference of the\\nNorth American Chapter of the Association\\nfor Computational Linguistics on Human Lan-\\nguage Technology - Volume 1 , NAACL ’03,\\npage 48–54, USA, 2003. Association for Com-\\nputational Linguistics. doi: 10.3115/1073445.\\n1073462. URL https://doi.org/10.\\n3115/1073445.1073462 .\\nThang Luong, Hieu Pham, and Christopher D.\\nManning. Effective approaches to attention-\\nbased neural machine translation. In EMNLP ,\\n2015.\\nKishore Papineni, S. Roukos, T. Ward, and Wei-\\nJing Zhu. Bleu: a method for automatic evalua-\\ntion of machine translation. In ACL, 2002.\\nR. Rana. Gated recurrent unit (gru) for emo-\\ntion classiﬁcation from noisy speech. ArXiv ,\\nabs/1612.07778, 2016.M. Schuster and K. Paliwal. Bidirectional recur-\\nrent neural networks. IEEE Trans. Signal Pro-\\ncess. , 45:2673–2681, 1997.\\nXuewen Shi, Heyan Huang, Ping Jian, and Yi-Kun\\nTang. Improving neural machine translation\\nwith sentence alignment learning. Neurocom-\\nputing , 420:15–26, 2021. ISSN 0925-2312. doi:\\nhttps://doi.org/10.1016/j.neucom.2020.05.104.\\nIlya Sutskever, Oriol Vinyals, and Quoc V . Le.\\nSequence to sequence learning with neural net-\\nworks. In NIPS , 2014.\\nShuangzhi Wu, Dongdong Zhang, Zhirui Zhang,\\nNan Yang, Mu Li, and M. Zhou. Dependency-\\nto-dependency neural machine translation.\\nIEEE/ACM Transactions on Audio, Speech, and\\nLanguage Processing , 26:2132–2141, 2018.'),\n",
       " Document(metadata={'source': '../assets/MachineTranslationwithAttention.pdf', 'page': 10}, page_content='Source se˜nor presidente , se ˜nor presidente en ejercicio del consejo , se ˜nor presidente de la\\ncomisi ´on , se ˜nor´ıas , me gustar ´ıa hacer tres breves comentarios .\\nReference mr president , mr president - in - ofﬁce of the council , mr president of the com-\\nmission , ladies and gentlemen , i would just like to make three brief comments\\n.\\nOur Model president mr president , mr president - in - ofﬁce of the council , mr president of\\nthe commission , ladies and gentlemen , i would like to make three brief comments\\nbrief comments .\\nGoogle Translate Mr. Chairman, Mr. Chairman-in-Ofﬁce of the Council, Mr. Chairman of the Com-\\nmittee, ladies and gentlemen, I would like to make three brief comments.\\nSource como los estados miembros , la comisi ´on procura promover el estado de derecho ,\\nsin el cual los derechos humanos no obtendr ´an reconocimiento en ning ´un territorio\\n.\\nReference the commission is involved , as are member states , in the promotion of the rule of\\nlaw , without which human rights can not operate in any territory .\\nOur Model that as the member states , the commission intends to promote the rule of law ,\\nwithout human rights will not not be any recognition in any territory in any territory\\n.\\nGoogle Translate Like the member states, the commission seeks to promote the rule of law, without\\nwhich human rights will not be recognized in any territory.\\nSource por escrito . - he votado a favor del informe de la se ˜nora fraga , que permite a\\ngroenlandia exportar productos pesqueros a la ue a pesar de no ser miembro .\\nReference in writing . - i voted in favour of ms fraga ’s report , which allows greenland to\\nexport ﬁshery products to the eu despite not being a member .\\nOur Model in writing . - i voted in favour of mrs fraga est ´evez ’s report , which allows greenland\\nexport export to export to the eu despite despite not being member .\\nGoogle Translate written . - i voted in favor of the report by mrs fraga, which allows greenland to\\nexport ﬁshery products to the eu despite not being a member.\\nSource ( pl ) se ˜nor presidente , me gustar ´ıa una vez m ´as manifestar mi satisfacci ´on por la\\nimportancia que la comunidad conﬁere a la necesidad de innovaci ´on en europa .\\nReference ( pl ) mr president , i would like once again to express my pleasure at the importance\\nthat the community attaches to the need for innovation in europe .\\nOur Model that ( pl ) mr president , i would once again like to express my satisfaction satis-\\nfaction that the community attaches to the community to the need for innovation in\\neurope .\\nGoogle Translate (pl) mr president, i would like once again to express my satisfaction with the impor-\\ntance that the community attaches to the need for innovation in europe.\\nSource son los estados miembros de la zona del euro los que no han cumplido , en especial\\nla rep ´ublica federal de alemania que se niega a mantener su promesa .\\nReference it is the member states of the euro area that have not delivered - and particularly the\\nfederal republic of germany , which is refusing to keep its promise .\\nOur Model that it is the member states of the euro area which have not complied honour ,\\nparticularly the federal republic of germany that refuses to keep their promise to\\nsustain their promise .\\nGoogle Translate it is the eurozone member states that have not delivered, especially the federal re-\\npublic of germany which refuses to keep its promise.\\nTable 4: Source and Reference form the test data, with translated sentence from our model along with\\nGoogle translation (as of 16 August 2021)\\nView publication stats')]"
      ]
     },
     "execution_count": 2,
     "metadata": {},
     "output_type": "execute_result"
    }
   ],
   "source": [
    "pages = doc_loader.load_and_split()\n",
    "pages"
   ]
  },
  {
   "cell_type": "code",
   "execution_count": 3,
   "metadata": {},
   "outputs": [
    {
     "name": "stdout",
     "output_type": "stream",
     "text": [
      "Neural Machine Translation with Attention\n",
      "Mohammad Wasil Saleem\n",
      "Matrikel-Nr.: 805779\n",
      "Universit ¨at Potsdam\n",
      "saleem1@uni-potsdam.deSandeep Uprety\n",
      "Matrikel-Nr. 804982\n",
      "Universit ¨at Potsdam\n",
      "uprety@uni-potsdam.de\n",
      "Abstract\n",
      "In recent years, the success achieved\n",
      "through neural machine translation has\n",
      "made it mainstream in machine translation\n",
      "systems. In this work, encoder-decoder\n",
      "with attention system based on ”Neural\n",
      "Machine Translation by Jointly Learning\n",
      "to Align and Translate” by Bahdanau et al.\n",
      "(2014) has been used to accomplish the\n",
      "Machine Translation between English and\n",
      "Spanish Language which has not seen\n",
      "much research work done as compared\n",
      "to other languages such as German and\n",
      "French. We aim to demonstrate the re-\n",
      "sults similar to the breakthrough paper on\n",
      "which our work is based on. We achieved\n",
      "a BLEU score of 25.37, which was close\n",
      "enough to what Bahdanau et al. (2014)\n",
      "achieved in their work.\n",
      "1 Introduction\n",
      "Machine Translation (MT) is the task of translat-\n",
      "ing text without human assistance while preserv-\n",
      "ing the meaning of input text. The early approach\n",
      "to machine translation relied heavily on hand-\n",
      "crafted translation rules and linguistic knowledge.\n",
      "Started in early around 1950s, unlike rule-based\n",
      "machine translation, Statistical machine transla-\n",
      "tion (SMT) generated translations based on statis-\n",
      "tical models whose parameters are derived from\n",
      "the analysis of bilingual text corpora (Koehn et al.,\n",
      "2003). Though reliable, for SMT, it can be hard\n",
      "to ﬁnd content for obscure languages and is less\n",
      "suitable for language pairs with big differences\n",
      "in word order making the quality of translation\n",
      "far from satisfactory. With the progress in deep\n",
      "learning being applied to MT, in 2014, end-to-end\n",
      "neural network translation model was proposed\n",
      "by (Bahdanau et al., 2014; Sutskever et al., 2014)\n",
      "where the term ”neural machine translation” wasformally used. Neural machine translation (NMT)\n",
      "is the newest method of MT that uses a single\n",
      "large neural network to model the entire transla-\n",
      "tion process, freeing the need for excessive fea-\n",
      "ture engineering. Through the rapid research and\n",
      "breakthroughs, end-to-end neural machine trans-\n",
      "lation has gained remarkable performances (Shi\n",
      "et al., 2021; Bahdanau et al., 2014) and have be-\n",
      "come mainstream approach to MT.\n",
      "2 Related Work\n",
      "Early problem of NMT was often the poor trans-\n",
      "lation for long sentences (Sutskever et al., 2014)\n",
      "which can be attributed to the ﬁxed-length of\n",
      "source encoding in conventional encoder-decoder\n",
      "as suggested by Cho et al. (2014a) for which the\n",
      "concept of attention to NMT was introduced by\n",
      "Bahdanau et al. (2014) to avoid keeping a ﬁxed\n",
      "source side representation.\n",
      "As compared to separately tuned components in\n",
      "SMT, newly emerging Neural Machine translation\n",
      "radically departures from previous machine learn-\n",
      "ing approaches as the training of NMT is end-to-\n",
      "end which has signiﬁcantly improved translation\n",
      "quality across 30 different languages (Junczys-\n",
      "Dowmunt et al., 2016). NMT model can be attrac-\n",
      "tive for various reason one being scalability issue,\n",
      "whether it be memory requirements or computa-\n",
      "tional speed. Another being able to train all the\n",
      "character embedding as each characters frequently\n",
      "occurs in the training corpus.\n",
      "Most neural machine translation models pro-\n",
      "posed use encoder-decoder where a neural net-\n",
      "work reads and encodes a source sentence into\n",
      "a ﬁxed-length vector and a decoder then outputs\n",
      "a translation from the encoded vector, where in\n",
      "most of the cases the encoder and decoder are\n",
      "mainly implemented as RNNs, CNNs or self-\n",
      "attention network (Wu et al., 2018). The whole\n",
      "encoder–decoder system, which consists of the\n",
      "encoder and the decoder for a language pair, is\n"
     ]
    }
   ],
   "source": [
    "print(pages[1].page_content)"
   ]
  },
  {
   "cell_type": "markdown",
   "metadata": {},
   "source": [
    "#### 6.1.2 JSON\n",
    "\n",
    "##### [Reference Docs](https://python.langchain.com/v0.1/docs/modules/data_connection/document_loaders/json/)\n",
    "\n",
    "In order to read the contents of a **JSON**, you will need to install `jq` module for jqschema:\n",
    "\n",
    "```bash\n",
    "pip install jq\n",
    "```"
   ]
  },
  {
   "cell_type": "code",
   "execution_count": 4,
   "metadata": {},
   "outputs": [
    {
     "name": "stdout",
     "output_type": "stream",
     "text": [
      "{'quiz': {'maths': {'q1': {'answer': '12',\n",
      "                           'options': ['10', '11', '12', '13'],\n",
      "                           'question': '5 + 7 = ?'},\n",
      "                    'q2': {'answer': '4',\n",
      "                           'options': ['1', '2', '3', '4'],\n",
      "                           'question': '12 - 8 = ?'}},\n",
      "          'sport': {'q1': {'answer': 'Huston Rocket',\n",
      "                           'options': ['New York Bulls',\n",
      "                                       'Los Angeles Kings',\n",
      "                                       'Golden State Warriros',\n",
      "                                       'Huston Rocket'],\n",
      "                           'question': 'Which one is correct team name in '\n",
      "                                       'NBA?'}}}}\n"
     ]
    }
   ],
   "source": [
    "# Import JSONLoader to read content of JSON file\n",
    "import json\n",
    "from pathlib import Path\n",
    "from pprint import pprint\n",
    "\n",
    "# Read JSON file\n",
    "file_path = \"../assets/NBA.json\"\n",
    "data = json.loads(Path(file_path).read_text())\n",
    "pprint(data)"
   ]
  },
  {
   "cell_type": "code",
   "execution_count": 5,
   "metadata": {},
   "outputs": [
    {
     "name": "stdout",
     "output_type": "stream",
     "text": [
      "[Document(metadata={'source': '/home/luluw/Desktop/Generative-AI/assets/NBA.json', 'seq_num': 1}, page_content='{\"q1\": {\"question\": \"Which one is correct team name in NBA?\", \"options\": [\"New York Bulls\", \"Los Angeles Kings\", \"Golden State Warriros\", \"Huston Rocket\"], \"answer\": \"Huston Rocket\"}}'),\n",
      " Document(metadata={'source': '/home/luluw/Desktop/Generative-AI/assets/NBA.json', 'seq_num': 2}, page_content='{\"q1\": {\"question\": \"5 + 7 = ?\", \"options\": [\"10\", \"11\", \"12\", \"13\"], \"answer\": \"12\"}, \"q2\": {\"question\": \"12 - 8 = ?\", \"options\": [\"1\", \"2\", \"3\", \"4\"], \"answer\": \"4\"}}')]\n"
     ]
    }
   ],
   "source": [
    "from langchain_community.document_loaders import JSONLoader\n",
    "\n",
    "# Load JSON file using JSONLoader from langchain\n",
    "loader = JSONLoader(file_path=\"../assets/NBA.json\",\n",
    "                    jq_schema=\".quiz[]\",\n",
    "                    text_content=False)\n",
    "\n",
    "data = loader.load()\n",
    "pprint(data)"
   ]
  },
  {
   "cell_type": "code",
   "execution_count": 6,
   "metadata": {},
   "outputs": [
    {
     "data": {
      "text/plain": [
       "'Which one is correct team name in NBA?'"
      ]
     },
     "execution_count": 6,
     "metadata": {},
     "output_type": "execute_result"
    }
   ],
   "source": [
    "json.loads(data[0].page_content).get(\"q1\", {}).get(\"question\")"
   ]
  },
  {
   "cell_type": "code",
   "execution_count": 7,
   "metadata": {},
   "outputs": [
    {
     "data": {
      "text/plain": [
       "'Huston Rocket'"
      ]
     },
     "execution_count": 7,
     "metadata": {},
     "output_type": "execute_result"
    }
   ],
   "source": [
    "json.loads(data[0].page_content).get(\"q1\", {}).get(\"answer\")"
   ]
  },
  {
   "cell_type": "markdown",
   "metadata": {},
   "source": [
    "In order to read the contents of a **HTML File**, you will need to install `unstructured` module:\n",
    "\n",
    "```bash\n",
    "pip install unstructured\n",
    "```"
   ]
  },
  {
   "cell_type": "code",
   "execution_count": 8,
   "metadata": {},
   "outputs": [
    {
     "data": {
      "text/plain": [
       "[Document(metadata={'source': '../assets/data.html'}, page_content='Sample Data Document\\n\\nIntroduction\\n\\nThis document contains synthetic data that simulates information typically found in various types of reports and datasets.\\n\\nList of Products\\n\\nProduct 1: Apple iPhone 14 - A modern smartphone with advanced features.\\n\\nProduct 2: Samsung Galaxy S22 - A high-end smartphone with a vibrant display.\\n\\nProduct 3: Google Pixel 7 - A smartphone known for its excellent camera performance.\\n\\nSales Data Table\\n\\nProduct ID Product Name Units Sold Revenue 101 Apple iPhone 14 1500 $1,200,000 102 Samsung Galaxy S22 1200 $1,080,000 103 Google Pixel 7 900 $675,000\\n\\nCompany Logo\\n\\nConclusion\\n\\nThis document demonstrates how to present synthetic data in an HTML format, including product lists, sales data, and visual elements.')]"
      ]
     },
     "execution_count": 8,
     "metadata": {},
     "output_type": "execute_result"
    }
   ],
   "source": [
    "# Import UnstructuredHTMLLoader\n",
    "from langchain_community.document_loaders import UnstructuredHTMLLoader\n",
    "\n",
    "# Read HTML file\n",
    "loader = UnstructuredHTMLLoader(\"../assets/data.html\")\n",
    "data = loader.load()\n",
    "data"
   ]
  },
  {
   "cell_type": "code",
   "execution_count": 9,
   "metadata": {},
   "outputs": [
    {
     "name": "stdout",
     "output_type": "stream",
     "text": [
      "Sample Data Document\n",
      "\n",
      "Introduction\n",
      "\n",
      "This document contains synthetic data that simulates information typically found in various types of reports and datasets.\n",
      "\n",
      "List of Products\n",
      "\n",
      "Product 1: Apple iPhone 14 - A modern smartphone with advanced features.\n",
      "\n",
      "Product 2: Samsung Galaxy S22 - A high-end smartphone with a vibrant display.\n",
      "\n",
      "Product 3: Google Pixel 7 - A smartphone known for its excellent camera performance.\n",
      "\n",
      "Sales Data Table\n",
      "\n",
      "Product ID Product Name Units Sold Revenue 101 Apple iPhone 14 1500 $1,200,000 102 Samsung Galaxy S22 1200 $1,080,000 103 Google Pixel 7 900 $675,000\n",
      "\n",
      "Company Logo\n",
      "\n",
      "Conclusion\n",
      "\n",
      "This document demonstrates how to present synthetic data in an HTML format, including product lists, sales data, and visual elements.\n"
     ]
    }
   ],
   "source": [
    "print(data[0].page_content)"
   ]
  },
  {
   "cell_type": "markdown",
   "metadata": {},
   "source": [
    "## 07. Memory\n",
    "\n",
    "#### [Reference Docs](https://python.langchain.com/v0.1/docs/modules/memory/)\n",
    "\n",
    "<div align=\"center\">\n",
    "\n",
    "![Memory](https://python.langchain.com/v0.1/assets/images/memory_diagram-0627c68230aa438f9b5419064d63cbbc.png)\n",
    "</div>\n",
    "LangChain offers tools for incorporating __memory__ into the system. The memory system invloves reading past information before executing logic and writing current inputs and outputs afterward for future reference. This process involves aumenting user inputs with memory before executing core logic and storing these inputs and outputs for future use.\n",
    "\n",
    "Let's perform a basic chaining prompt response\n",
    "\n"
   ]
  },
  {
   "cell_type": "code",
   "execution_count": 10,
   "metadata": {},
   "outputs": [],
   "source": [
    "# Import necessary libraries\n",
    "import os \n",
    "import openai \n",
    "import langchain\n",
    "from dotenv import load_dotenv\n",
    "from langchain_openai import OpenAI\n",
    "\n",
    "# Load environment variables form .env file\n",
    "load_dotenv()\n",
    "\n",
    "# Access environment variables and setup OpenAI client\n",
    "openai_key = os.getenv(\"OPENAI_API_KEY\")\n",
    "openai.api_key = openai_key\n",
    "\n",
    "# Initialize OpenAI LLM client\n",
    "client = OpenAI(openai_api_key=openai_key)  "
   ]
  },
  {
   "cell_type": "code",
   "execution_count": 11,
   "metadata": {},
   "outputs": [],
   "source": [
    "from langchain.prompts import PromptTemplate\n",
    "from langchain.chains import LLMChain"
   ]
  },
  {
   "cell_type": "code",
   "execution_count": 12,
   "metadata": {},
   "outputs": [
    {
     "name": "stdout",
     "output_type": "stream",
     "text": [
      "\"NovaTech Mobile\"\n"
     ]
    }
   ],
   "source": [
    "# Create a prompt template\n",
    "prompt_template = PromptTemplate(\n",
    "    input_variables=[\"product\"],\n",
    "    template=\"What is a good name for a company that makes {product}?\"\n",
    ")\n",
    "\n",
    "# Chaining by LCEL method\n",
    "chain = prompt_template | client \n",
    "\n",
    "# Generate a respone\n",
    "response = chain.invoke({\"product\":\"next generation smartphones\"})\n",
    "print(response.strip())"
   ]
  },
  {
   "cell_type": "code",
   "execution_count": 13,
   "metadata": {},
   "outputs": [
    {
     "name": "stdout",
     "output_type": "stream",
     "text": [
      "\"Carbon Flight Co.\"\n"
     ]
    }
   ],
   "source": [
    "response = chain.invoke({\"product\":\"drones from carbon fibres\"})\n",
    "print(response.strip())"
   ]
  },
  {
   "cell_type": "markdown",
   "metadata": {},
   "source": [
    "### 7.1 Conversation Buffer Memory\n",
    "\n",
    "LangChain uses __`ConversationBufferMemory`__ in chains to keep a list of chat messages in a buffer and passes those into the prompt template. \n",
    "\n",
    "**ConversationBufferMemory** is a type of memory in LangChain designed to store and manage conversational history. It keeps track of a sequence of messages exchanged between a user and an AI model. This memory is used to provide context for ongoing conversations, ensuring that the model can generate responses that are coherent and relevant based on the previous interactions.\n",
    "\n",
    "It works by:\n",
    "\n",
    "1. **Storing Messages**: It collects and stores both user inputs and AI responses as the conversation progresses.\n",
    "\n",
    "2. **Managing History**: It keeps a chronological list or buffer of all messages.\n",
    "\n",
    "3. **Passing to Prompt Template**: The buffer's messages are used to provide context for generating responses.\n",
    "\n",
    "4. **Handling Length**: It may truncate or summarize older messages to manage the length of the conversation history."
   ]
  },
  {
   "cell_type": "code",
   "execution_count": 14,
   "metadata": {},
   "outputs": [],
   "source": [
    "# Import memory module from langchain\n",
    "from langchain.memory import ConversationBufferMemory\n",
    "\n",
    "# Create memory object\n",
    "memory = ConversationBufferMemory()"
   ]
  },
  {
   "cell_type": "code",
   "execution_count": 15,
   "metadata": {},
   "outputs": [
    {
     "name": "stderr",
     "output_type": "stream",
     "text": [
      "/home/luluw/Desktop/Generative-AI/env/lib/python3.11/site-packages/langchain_core/_api/deprecation.py:139: LangChainDeprecationWarning: The class `LLMChain` was deprecated in LangChain 0.1.17 and will be removed in 1.0. Use RunnableSequence, e.g., `prompt | llm` instead.\n",
      "  warn_deprecated(\n"
     ]
    },
    {
     "name": "stdout",
     "output_type": "stream",
     "text": [
      "\n",
      "\n",
      "\u001b[1m> Entering new LLMChain chain...\u001b[0m\n",
      "Prompt after formatting:\n",
      "\u001b[32;1m\u001b[1;3mWhat is a good name for a company that makes fastest switch mechanical keyboard?\u001b[0m\n",
      "\n",
      "\u001b[1m> Finished chain.\u001b[0m\n",
      "{'product': 'fastest switch mechanical keyboard', 'history': '', 'text': '\\n\\n\"Velocity Keyboards\" '}\n"
     ]
    }
   ],
   "source": [
    "# Create a prompt template\n",
    "prompt_template = PromptTemplate(\n",
    "    input_variables=[\"product\"],\n",
    "    template=\"What is a good name for a company that makes {product}?\"\n",
    ")\n",
    "\n",
    "# Chaining by LCEL method\n",
    "chain = LLMChain(llm=client, prompt=prompt_template, memory=memory, verbose=True)\n",
    "\n",
    "# Generate a respone\n",
    "response = chain.invoke(\"fastest switch mechanical keyboard\")\n",
    "print(response)"
   ]
  },
  {
   "cell_type": "code",
   "execution_count": 16,
   "metadata": {},
   "outputs": [
    {
     "name": "stdout",
     "output_type": "stream",
     "text": [
      "\"Velocity Keyboards\"\n"
     ]
    }
   ],
   "source": [
    "print(response.get(\"text\").strip())"
   ]
  },
  {
   "cell_type": "code",
   "execution_count": 17,
   "metadata": {},
   "outputs": [
    {
     "name": "stdout",
     "output_type": "stream",
     "text": [
      "\n",
      "\n",
      "\u001b[1m> Entering new LLMChain chain...\u001b[0m\n",
      "Prompt after formatting:\n",
      "\u001b[32;1m\u001b[1;3mWhat is a good name for a company that makes quiet drones?\u001b[0m\n",
      "\n",
      "\u001b[1m> Finished chain.\u001b[0m\n",
      "{'product': 'quiet drones', 'history': 'Human: fastest switch mechanical keyboard\\nAI: \\n\\n\"Velocity Keyboards\" ', 'text': '\\n\\n\"Whisperflight Drones\"'}\n"
     ]
    }
   ],
   "source": [
    "# Generate another respone for next prompt\n",
    "response = chain.invoke(\"quiet drones\")\n",
    "print(response)"
   ]
  },
  {
   "cell_type": "code",
   "execution_count": 18,
   "metadata": {},
   "outputs": [
    {
     "name": "stdout",
     "output_type": "stream",
     "text": [
      "\"Whisperflight Drones\"\n"
     ]
    }
   ],
   "source": [
    "print(response.get(\"text\").strip())"
   ]
  },
  {
   "cell_type": "code",
   "execution_count": 19,
   "metadata": {},
   "outputs": [
    {
     "data": {
      "text/plain": [
       "ConversationBufferMemory(chat_memory=InMemoryChatMessageHistory(messages=[HumanMessage(content='fastest switch mechanical keyboard'), AIMessage(content='\\n\\n\"Velocity Keyboards\" '), HumanMessage(content='quiet drones'), AIMessage(content='\\n\\n\"Whisperflight Drones\"')]))"
      ]
     },
     "execution_count": 19,
     "metadata": {},
     "output_type": "execute_result"
    }
   ],
   "source": [
    "# Lets checkout the history/memory it has able to retain\n",
    "chain.memory"
   ]
  },
  {
   "cell_type": "code",
   "execution_count": 20,
   "metadata": {},
   "outputs": [
    {
     "name": "stdout",
     "output_type": "stream",
     "text": [
      "Human: fastest switch mechanical keyboard\n",
      "AI: \n",
      "\n",
      "\"Velocity Keyboards\" \n",
      "Human: quiet drones\n",
      "AI: \n",
      "\n",
      "\"Whisperflight Drones\"\n"
     ]
    }
   ],
   "source": [
    "print(chain.memory.buffer)"
   ]
  },
  {
   "cell_type": "markdown",
   "metadata": {},
   "source": [
    "> Now, as we can see, __Conversation Buffer Memory__ can retain past information, but this may go on indefinitely (meaning it can accumulate hundreds to thousands of entries). This can cause memory overhead, which is a __limitation of Conversation Buffer Memory__.\n",
    "\n",
    "### Conversation Chain\n",
    "\n",
    "> [Deprecated by v1.0](https://api.python.langchain.com/en/latest/chains/langchain.chains.conversation.base.ConversationChain.html)\n",
    "\n",
    "__`ConversationChain`__ in LangChain is a framework component designed to handle conversational interactions through a sequence of processing steps. It integrates various stages, such as prompt generation, model interaction, and response handling, to manage and facilitate coherent and context-aware conversations.\n",
    "\n"
   ]
  },
  {
   "cell_type": "code",
   "execution_count": 21,
   "metadata": {},
   "outputs": [
    {
     "name": "stderr",
     "output_type": "stream",
     "text": [
      "/home/luluw/Desktop/Generative-AI/env/lib/python3.11/site-packages/langchain_core/_api/deprecation.py:139: LangChainDeprecationWarning: The class `ConversationChain` was deprecated in LangChain 0.2.7 and will be removed in 1.0. Use RunnableWithMessageHistory: https://api.python.langchain.com/en/latest/runnables/langchain_core.runnables.history.RunnableWithMessageHistory.html instead.\n",
      "  warn_deprecated(\n"
     ]
    }
   ],
   "source": [
    "from langchain.chains import ConversationChain\n",
    "\n",
    "client = OpenAI(temperature=0.7)\n",
    "convo = ConversationChain(llm=client)"
   ]
  },
  {
   "cell_type": "code",
   "execution_count": 22,
   "metadata": {},
   "outputs": [
    {
     "name": "stdout",
     "output_type": "stream",
     "text": [
      "The following is a friendly conversation between a human and an AI. The AI is talkative and provides lots of specific details from its context. If the AI does not know the answer to a question, it truthfully says it does not know.\n",
      "\n",
      "Current conversation:\n",
      "{history}\n",
      "Human: {input}\n",
      "AI:\n"
     ]
    }
   ],
   "source": [
    "# By default prompt\n",
    "print(convo.prompt.template)"
   ]
  },
  {
   "cell_type": "markdown",
   "metadata": {},
   "source": [
    "Let's ask the model about **Football WorldCup 2014**"
   ]
  },
  {
   "cell_type": "code",
   "execution_count": 23,
   "metadata": {},
   "outputs": [
    {
     "data": {
      "text/plain": [
       "{'input': 'When and where did Football WorldCup 2014 get held?',\n",
       " 'history': '',\n",
       " 'response': ' The 2014 FIFA World Cup was held in Brazil from June 12th to July 13th. The opening match was held at the Arena Corinthians in São Paulo, and the final match was held at the Maracanã Stadium in Rio de Janeiro.'}"
      ]
     },
     "execution_count": 23,
     "metadata": {},
     "output_type": "execute_result"
    }
   ],
   "source": [
    "convo.invoke(\"When and where did Football WorldCup 2014 get held?\")"
   ]
  },
  {
   "cell_type": "markdown",
   "metadata": {},
   "source": [
    "Let's change the subject and ask the model about **calculus mathematics**"
   ]
  },
  {
   "cell_type": "code",
   "execution_count": 24,
   "metadata": {},
   "outputs": [
    {
     "data": {
      "text/plain": [
       "{'input': 'Can you tell me what is derivative of sin(x)?',\n",
       " 'history': 'Human: When and where did Football WorldCup 2014 get held?\\nAI:  The 2014 FIFA World Cup was held in Brazil from June 12th to July 13th. The opening match was held at the Arena Corinthians in São Paulo, and the final match was held at the Maracanã Stadium in Rio de Janeiro.',\n",
       " 'response': ' The derivative of sin(x) is cos(x). It can also be written as d/dx (sin(x)) = cos(x). This means that the rate of change of sin(x) at any given point is equal to cos(x).'}"
      ]
     },
     "execution_count": 24,
     "metadata": {},
     "output_type": "execute_result"
    }
   ],
   "source": [
    "convo.invoke(\"Can you tell me what is derivative of sin(x)?\")"
   ]
  },
  {
   "cell_type": "code",
   "execution_count": 25,
   "metadata": {},
   "outputs": [
    {
     "data": {
      "text/plain": [
       "{'input': 'Can you tell me what is L-hospital rule?',\n",
       " 'history': 'Human: When and where did Football WorldCup 2014 get held?\\nAI:  The 2014 FIFA World Cup was held in Brazil from June 12th to July 13th. The opening match was held at the Arena Corinthians in São Paulo, and the final match was held at the Maracanã Stadium in Rio de Janeiro.\\nHuman: Can you tell me what is derivative of sin(x)?\\nAI:  The derivative of sin(x) is cos(x). It can also be written as d/dx (sin(x)) = cos(x). This means that the rate of change of sin(x) at any given point is equal to cos(x).',\n",
       " 'response': \" The L'Hospital's rule is a mathematical rule used to evaluate limits of indeterminate forms by applying derivatives and the fundamental theorem of calculus. It states that if the limit of a quotient of two functions is in an indeterminate form, then the limit of the quotient of the derivatives of the two functions is equal to the original limit. In simpler terms, it helps to solve limits that cannot be directly evaluated.\"}"
      ]
     },
     "execution_count": 25,
     "metadata": {},
     "output_type": "execute_result"
    }
   ],
   "source": [
    "convo.invoke(\"Can you tell me what is L-hospital rule?\")"
   ]
  },
  {
   "cell_type": "markdown",
   "metadata": {},
   "source": [
    "Let's redirect the model by asking about previous subject **Football WorldCup 2014**"
   ]
  },
  {
   "cell_type": "code",
   "execution_count": 26,
   "metadata": {},
   "outputs": [
    {
     "data": {
      "text/plain": [
       "{'input': 'Can you tell me which country won Football WorldCup 2014?',\n",
       " 'history': \"Human: When and where did Football WorldCup 2014 get held?\\nAI:  The 2014 FIFA World Cup was held in Brazil from June 12th to July 13th. The opening match was held at the Arena Corinthians in São Paulo, and the final match was held at the Maracanã Stadium in Rio de Janeiro.\\nHuman: Can you tell me what is derivative of sin(x)?\\nAI:  The derivative of sin(x) is cos(x). It can also be written as d/dx (sin(x)) = cos(x). This means that the rate of change of sin(x) at any given point is equal to cos(x).\\nHuman: Can you tell me what is L-hospital rule?\\nAI:  The L'Hospital's rule is a mathematical rule used to evaluate limits of indeterminate forms by applying derivatives and the fundamental theorem of calculus. It states that if the limit of a quotient of two functions is in an indeterminate form, then the limit of the quotient of the derivatives of the two functions is equal to the original limit. In simpler terms, it helps to solve limits that cannot be directly evaluated.\",\n",
       " 'response': \" The 2014 FIFA World Cup was won by Germany, who defeated Argentina 1-0 in the final match. This was Germany's fourth World Cup title, making them the second most successful team in the tournament's history.\"}"
      ]
     },
     "execution_count": 26,
     "metadata": {},
     "output_type": "execute_result"
    }
   ],
   "source": [
    "convo.invoke(\"Can you tell me which country won Football WorldCup 2014?\")"
   ]
  },
  {
   "cell_type": "markdown",
   "metadata": {},
   "source": [
    "Let's check **memory retention** of previous calculus operation"
   ]
  },
  {
   "cell_type": "code",
   "execution_count": 27,
   "metadata": {},
   "outputs": [
    {
     "data": {
      "text/plain": [
       "{'input': 'Can you give me the anti-derivative of previous final answer of derivative?',\n",
       " 'history': \"Human: When and where did Football WorldCup 2014 get held?\\nAI:  The 2014 FIFA World Cup was held in Brazil from June 12th to July 13th. The opening match was held at the Arena Corinthians in São Paulo, and the final match was held at the Maracanã Stadium in Rio de Janeiro.\\nHuman: Can you tell me what is derivative of sin(x)?\\nAI:  The derivative of sin(x) is cos(x). It can also be written as d/dx (sin(x)) = cos(x). This means that the rate of change of sin(x) at any given point is equal to cos(x).\\nHuman: Can you tell me what is L-hospital rule?\\nAI:  The L'Hospital's rule is a mathematical rule used to evaluate limits of indeterminate forms by applying derivatives and the fundamental theorem of calculus. It states that if the limit of a quotient of two functions is in an indeterminate form, then the limit of the quotient of the derivatives of the two functions is equal to the original limit. In simpler terms, it helps to solve limits that cannot be directly evaluated.\\nHuman: Can you tell me which country won Football WorldCup 2014?\\nAI:  The 2014 FIFA World Cup was won by Germany, who defeated Argentina 1-0 in the final match. This was Germany's fourth World Cup title, making them the second most successful team in the tournament's history.\",\n",
       " 'response': \" I'm sorry, I do not have the previous final answer of the derivative stored in my memory. Can you provide me with the specific equation so I can calculate the anti-derivative for you?\"}"
      ]
     },
     "execution_count": 27,
     "metadata": {},
     "output_type": "execute_result"
    }
   ],
   "source": [
    "convo.invoke(\"Can you give me the anti-derivative of previous final answer of derivative?\")"
   ]
  },
  {
   "cell_type": "markdown",
   "metadata": {},
   "source": [
    "### 7.2 Conversation Buffer Window Memory\n",
    "\n",
    "LangChain uses __`ConversationBufferWindowMemory`__ to manage conversational context with a fixed-size window. Unlike `ConversationBufferMemory`, which retains all past interactions, `ConversationBufferWindowMemory` only keeps a defined number of recent messages (e.g., the last 5-10 interactions). This approach helps control memory usage by maintaining a sliding window of recent messages, which are passed into the prompt template to provide relevant context while avoiding excessive memory overhead.\n",
    "\n",
    "#### Key Differences\n",
    "\n",
    "| Feature                        | ConversationBufferWindowMemory         | ConversationBufferMemory               |\n",
    "|--------------------------------|-----------------------------------------|----------------------------------------|\n",
    "| **Context Management**         | Fixed-size window of recent messages    | Entire history of messages             |\n",
    "| **Memory Usage**               | Controlled, limited to recent messages  | Can grow indefinitely                   |\n",
    "| **Purpose**                    | Efficient memory management             | Maintain complete conversation history |\n",
    "| **Implementation**             | Sliding window for recent interactions  | Retains all past interactions           |\n",
    "| **Use Case**                   | Balancing recent context with memory efficiency | Comprehensive historical context       |\n"
   ]
  },
  {
   "cell_type": "code",
   "execution_count": 28,
   "metadata": {},
   "outputs": [],
   "source": [
    "from langchain.memory import ConversationBufferWindowMemory\n",
    "\n",
    "# Define memory retain param inside Conversation Buffer Window Memory\n",
    "memory = ConversationBufferWindowMemory(k=2)\n",
    "convo = ConversationChain(llm=client, memory=memory)"
   ]
  },
  {
   "cell_type": "code",
   "execution_count": 29,
   "metadata": {},
   "outputs": [
    {
     "data": {
      "text/plain": [
       "{'input': 'Can you tell me what is derivative of sin(x)?',\n",
       " 'history': '',\n",
       " 'response': ' Absolutely! The derivative of sin(x) is cos(x). This can be derived using the chain rule, as well as the fact that the derivative of sin(x) is equal to cos(x). Is there anything else you would like to know about derivatives or trigonometric functions?'}"
      ]
     },
     "execution_count": 29,
     "metadata": {},
     "output_type": "execute_result"
    }
   ],
   "source": [
    "convo.invoke(\"Can you tell me what is derivative of sin(x)?\")"
   ]
  },
  {
   "cell_type": "code",
   "execution_count": 30,
   "metadata": {},
   "outputs": [
    {
     "data": {
      "text/plain": [
       "{'input': 'When and where did Football WorldCup 2014 get held?',\n",
       " 'history': 'Human: Can you tell me what is derivative of sin(x)?\\nAI:  Absolutely! The derivative of sin(x) is cos(x). This can be derived using the chain rule, as well as the fact that the derivative of sin(x) is equal to cos(x). Is there anything else you would like to know about derivatives or trigonometric functions?',\n",
       " 'response': ' The 2014 Football World Cup was held in Brazil from June 12 to July 13. It was the 20th edition of the tournament and featured 32 teams from around the world. The final match was held at the Maracanã Stadium in Rio de Janeiro, where Germany defeated Argentina 1-0 to become the champions. Did you know that this was the first time a European team won the World Cup in the Americas?'}"
      ]
     },
     "execution_count": 30,
     "metadata": {},
     "output_type": "execute_result"
    }
   ],
   "source": [
    "convo.invoke(\"When and where did Football WorldCup 2014 get held?\")"
   ]
  },
  {
   "cell_type": "code",
   "execution_count": 31,
   "metadata": {},
   "outputs": [
    {
     "data": {
      "text/plain": [
       "{'input': 'Can you tell me what is L-hospital rule?',\n",
       " 'history': 'Human: Can you tell me what is derivative of sin(x)?\\nAI:  Absolutely! The derivative of sin(x) is cos(x). This can be derived using the chain rule, as well as the fact that the derivative of sin(x) is equal to cos(x). Is there anything else you would like to know about derivatives or trigonometric functions?\\nHuman: When and where did Football WorldCup 2014 get held?\\nAI:  The 2014 Football World Cup was held in Brazil from June 12 to July 13. It was the 20th edition of the tournament and featured 32 teams from around the world. The final match was held at the Maracanã Stadium in Rio de Janeiro, where Germany defeated Argentina 1-0 to become the champions. Did you know that this was the first time a European team won the World Cup in the Americas?',\n",
       " 'response': \" Of course! L'Hospital's rule is a mathematical theorem used in calculus to evaluate limits of indeterminate forms. It states that for certain types of limits, the limit of a quotient of two functions is equal to the limit of the quotient of their derivatives. This rule is named after the French mathematician Guillaume de l'Hôpital, who first published it in 1696. Is there anything else you would like to know about this rule or its applications in calculus?\"}"
      ]
     },
     "execution_count": 31,
     "metadata": {},
     "output_type": "execute_result"
    }
   ],
   "source": [
    "convo.invoke(\"Can you tell me what is L-hospital rule?\")"
   ]
  },
  {
   "cell_type": "code",
   "execution_count": 32,
   "metadata": {},
   "outputs": [
    {
     "data": {
      "text/plain": [
       "{'input': 'Can you tell me which country won Football WorldCup 2014?',\n",
       " 'history': \"Human: When and where did Football WorldCup 2014 get held?\\nAI:  The 2014 Football World Cup was held in Brazil from June 12 to July 13. It was the 20th edition of the tournament and featured 32 teams from around the world. The final match was held at the Maracanã Stadium in Rio de Janeiro, where Germany defeated Argentina 1-0 to become the champions. Did you know that this was the first time a European team won the World Cup in the Americas?\\nHuman: Can you tell me what is L-hospital rule?\\nAI:  Of course! L'Hospital's rule is a mathematical theorem used in calculus to evaluate limits of indeterminate forms. It states that for certain types of limits, the limit of a quotient of two functions is equal to the limit of the quotient of their derivatives. This rule is named after the French mathematician Guillaume de l'Hôpital, who first published it in 1696. Is there anything else you would like to know about this rule or its applications in calculus?\",\n",
       " 'response': \" As I mentioned before, Germany won the 2014 Football World Cup. This was their fourth title, making them the second-most successful team in the tournament's history, behind only Brazil. Did you know that this was also the first time a European team won the World Cup in the Americas?\"}"
      ]
     },
     "execution_count": 32,
     "metadata": {},
     "output_type": "execute_result"
    }
   ],
   "source": [
    "convo.invoke(\"Can you tell me which country won Football WorldCup 2014?\")"
   ]
  },
  {
   "cell_type": "code",
   "execution_count": 33,
   "metadata": {},
   "outputs": [
    {
     "data": {
      "text/plain": [
       "{'input': 'Can you give me the anti-derivative of previous final answer of derivative?',\n",
       " 'history': \"Human: Can you tell me what is L-hospital rule?\\nAI:  Of course! L'Hospital's rule is a mathematical theorem used in calculus to evaluate limits of indeterminate forms. It states that for certain types of limits, the limit of a quotient of two functions is equal to the limit of the quotient of their derivatives. This rule is named after the French mathematician Guillaume de l'Hôpital, who first published it in 1696. Is there anything else you would like to know about this rule or its applications in calculus?\\nHuman: Can you tell me which country won Football WorldCup 2014?\\nAI:  As I mentioned before, Germany won the 2014 Football World Cup. This was their fourth title, making them the second-most successful team in the tournament's history, behind only Brazil. Did you know that this was also the first time a European team won the World Cup in the Americas?\",\n",
       " 'response': \" I'm afraid I cannot do that, as I am not programmed to solve mathematical equations. My purpose is to provide information and assist with tasks, not to perform calculations. Is there anything else I can help you with?\"}"
      ]
     },
     "execution_count": 33,
     "metadata": {},
     "output_type": "execute_result"
    }
   ],
   "source": [
    "convo.invoke(\"Can you give me the anti-derivative of previous final answer of derivative?\")"
   ]
  },
  {
   "cell_type": "markdown",
   "metadata": {},
   "source": [
    "You can check the __`history`__ of the chained conversation. By setting `k=2`, the LLM retains the context of the last 2 prompts and responses. This approach aids in effective memory management by limiting the amount of historical context stored."
   ]
  },
  {
   "cell_type": "markdown",
   "metadata": {},
   "source": [
    "### [Reference Docs on Memory Types](https://python.langchain.com/v0.1/docs/modules/memory/types/)"
   ]
  }
 ],
 "metadata": {
  "kernelspec": {
   "display_name": "env",
   "language": "python",
   "name": "python3"
  },
  "language_info": {
   "codemirror_mode": {
    "name": "ipython",
    "version": 3
   },
   "file_extension": ".py",
   "mimetype": "text/x-python",
   "name": "python",
   "nbconvert_exporter": "python",
   "pygments_lexer": "ipython3",
   "version": "3.11.6"
  }
 },
 "nbformat": 4,
 "nbformat_minor": 2
}
