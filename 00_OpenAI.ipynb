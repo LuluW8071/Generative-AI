{
 "cells": [
  {
   "cell_type": "markdown",
   "metadata": {},
   "source": [
    "![Open AI](https://www.androidauthority.com/wp-content/uploads/2022/11/twitter-1-scaled.jpg)"
   ]
  },
  {
   "cell_type": "markdown",
   "metadata": {},
   "source": [
    "### [Open AI Quickstart](https://platform.openai.com/docs/quickstart)\n",
    "\n",
    "- __Account Setup:__ First, create and [OpenAI account](https://platform.openai.com/signup) or [sign in](https://platform.openai.com/login)\n",
    "\n",
    "- __API Key:__ After signing up, obtain your **API key** by navigating to the [`API Keys`](https://platform.openai.com/account/api-keys) section in your OpenAI account settings.\n",
    "\n",
    "> __Note:__ To generate an API key, you must first set up billing information(payment method) in your OpenAI account. This is required to activate and use the API services."
   ]
  },
  {
   "cell_type": "markdown",
   "metadata": {},
   "source": [
    "## 00. Getting Started\n",
    "\n",
    "- __Set up virtual env(optional):__ Creating a virtual environment helps isolate Python packages for your project, preventing conflicts with packages from other projects. To set up a virtual environment:\n",
    "\n",
    "```bash\n",
    "      python3 -m venv openai-env\n",
    "      source openai-env/bin/activate\n",
    "```\n",
    "\n",
    "\n",
    "- __Install OpenAI Python library:__ OpenAI provides a Python library called `openai` that allows you to interact with the OpenAI API. You can install the library using pip:\n",
    "\n",
    "```bash\n",
    "      pip3 install --upgrade openai\n",
    "```"
   ]
  },
  {
   "cell_type": "markdown",
   "metadata": {},
   "source": [
    "## 01. OpenAI API\n",
    "\n",
    "The **OpenAI API** offers developers seamless access to state-of-the-art, pre-trained AI models, including _GPT-3_, _GPT-4_, _GPT-4.5_, _DALL-E_, _Whisper_, and _Embeddings_. By utilizing the OpenAI API, you can effortlessly integrate advanced AI functionalities into your applications, regardless of the programming language. This enables you to enhance your application's intelligence and performance with cutting-edge technology.\n",
    "\n",
    "To manage the OpenAI API key securely, store it in a `.env` file and access it using the `python-dotenv` package. First, install the package with pip:\n",
    "\n",
    "```bash\n",
    "pip3 install python-dotenv\n",
    "```\n",
    "\n",
    "Next, create a `.env` file in the root directory of your project and add your OpenAI API key:\n",
    "\n",
    "```python\n",
    "OPENAI_API_KEY=\"YOUR_API_KEY\"\n",
    "```\n",
    "\n",
    "> **Note:** Create a `.gitignore` file and add `.env` to it. This will ensure that your __API key__ and other sensitive information in the `.env` file are not included in version control.\n"
   ]
  },
  {
   "cell_type": "code",
   "execution_count": 4,
   "metadata": {},
   "outputs": [],
   "source": [
    "# Import necessaty libraries\n",
    "import os \n",
    "import openai \n",
    "from dotenv import load_dotenv\n",
    "\n",
    "# Load environment variables form .env file\n",
    "load_dotenv()\n",
    "\n",
    "# Access environment variables\n",
    "openai_key = os.getenv(\"OPENAI_API_KEY\")\n",
    "openai.api_key = openai_key"
   ]
  },
  {
   "cell_type": "code",
   "execution_count": 5,
   "metadata": {},
   "outputs": [
    {
     "data": {
      "text/plain": [
       "[Model(id='dall-e-3', created=1698785189, object='model', owned_by='system'),\n",
       " Model(id='gpt-4o-2024-05-13', created=1715368132, object='model', owned_by='system'),\n",
       " Model(id='gpt-4-turbo-2024-04-09', created=1712601677, object='model', owned_by='system'),\n",
       " Model(id='gpt-4-1106-preview', created=1698957206, object='model', owned_by='system'),\n",
       " Model(id='dall-e-2', created=1698798177, object='model', owned_by='system'),\n",
       " Model(id='gpt-4o', created=1715367049, object='model', owned_by='system'),\n",
       " Model(id='gpt-4-turbo', created=1712361441, object='model', owned_by='system'),\n",
       " Model(id='tts-1-hd-1106', created=1699053533, object='model', owned_by='system'),\n",
       " Model(id='tts-1-hd', created=1699046015, object='model', owned_by='system'),\n",
       " Model(id='gpt-4-0125-preview', created=1706037612, object='model', owned_by='system'),\n",
       " Model(id='babbage-002', created=1692634615, object='model', owned_by='system'),\n",
       " Model(id='gpt-4-turbo-preview', created=1706037777, object='model', owned_by='system'),\n",
       " Model(id='text-embedding-3-small', created=1705948997, object='model', owned_by='system'),\n",
       " Model(id='text-embedding-3-large', created=1705953180, object='model', owned_by='system'),\n",
       " Model(id='gpt-3.5-turbo', created=1677610602, object='model', owned_by='openai'),\n",
       " Model(id='gpt-3.5-turbo-instruct', created=1692901427, object='model', owned_by='system'),\n",
       " Model(id='gpt-3.5-turbo-instruct-0914', created=1694122472, object='model', owned_by='system'),\n",
       " Model(id='whisper-1', created=1677532384, object='model', owned_by='openai-internal'),\n",
       " Model(id='text-embedding-ada-002', created=1671217299, object='model', owned_by='openai-internal'),\n",
       " Model(id='gpt-3.5-turbo-16k', created=1683758102, object='model', owned_by='openai-internal'),\n",
       " Model(id='davinci-002', created=1692634301, object='model', owned_by='system'),\n",
       " Model(id='tts-1-1106', created=1699053241, object='model', owned_by='system'),\n",
       " Model(id='gpt-3.5-turbo-0125', created=1706048358, object='model', owned_by='system'),\n",
       " Model(id='tts-1', created=1681940951, object='model', owned_by='openai-internal'),\n",
       " Model(id='gpt-3.5-turbo-1106', created=1698959748, object='model', owned_by='system'),\n",
       " Model(id='gpt-4o-mini-2024-07-18', created=1721172717, object='model', owned_by='system'),\n",
       " Model(id='gpt-4o-mini', created=1721172741, object='model', owned_by='system'),\n",
       " Model(id='gpt-4-0613', created=1686588896, object='model', owned_by='openai'),\n",
       " Model(id='gpt-4', created=1687882411, object='model', owned_by='openai')]"
      ]
     },
     "execution_count": 5,
     "metadata": {},
     "output_type": "execute_result"
    }
   ],
   "source": [
    "# Access the available models \n",
    "all_models = openai.models.list()\n",
    "list(all_models)"
   ]
  },
  {
   "cell_type": "markdown",
   "metadata": {},
   "source": [
    "> __Note:__ To view above lists in a dataframe you need to install `pandas` python-library\n",
    ">\n",
    "> ```bash\n",
    "> pip3 install pandas\n",
    "> ```"
   ]
  },
  {
   "cell_type": "code",
   "execution_count": 6,
   "metadata": {},
   "outputs": [
    {
     "data": {
      "text/html": [
       "<div>\n",
       "<style scoped>\n",
       "    .dataframe tbody tr th:only-of-type {\n",
       "        vertical-align: middle;\n",
       "    }\n",
       "\n",
       "    .dataframe tbody tr th {\n",
       "        vertical-align: top;\n",
       "    }\n",
       "\n",
       "    .dataframe thead th {\n",
       "        text-align: right;\n",
       "    }\n",
       "</style>\n",
       "<table border=\"1\" class=\"dataframe\">\n",
       "  <thead>\n",
       "    <tr style=\"text-align: right;\">\n",
       "      <th></th>\n",
       "      <th>models</th>\n",
       "      <th>creation</th>\n",
       "      <th>type</th>\n",
       "      <th>owner</th>\n",
       "    </tr>\n",
       "  </thead>\n",
       "  <tbody>\n",
       "    <tr>\n",
       "      <th>0</th>\n",
       "      <td>(id, dall-e-3)</td>\n",
       "      <td>(created, 1698785189)</td>\n",
       "      <td>(object, model)</td>\n",
       "      <td>(owned_by, system)</td>\n",
       "    </tr>\n",
       "    <tr>\n",
       "      <th>1</th>\n",
       "      <td>(id, gpt-4o-2024-05-13)</td>\n",
       "      <td>(created, 1715368132)</td>\n",
       "      <td>(object, model)</td>\n",
       "      <td>(owned_by, system)</td>\n",
       "    </tr>\n",
       "    <tr>\n",
       "      <th>2</th>\n",
       "      <td>(id, gpt-4-turbo-2024-04-09)</td>\n",
       "      <td>(created, 1712601677)</td>\n",
       "      <td>(object, model)</td>\n",
       "      <td>(owned_by, system)</td>\n",
       "    </tr>\n",
       "    <tr>\n",
       "      <th>3</th>\n",
       "      <td>(id, gpt-4-1106-preview)</td>\n",
       "      <td>(created, 1698957206)</td>\n",
       "      <td>(object, model)</td>\n",
       "      <td>(owned_by, system)</td>\n",
       "    </tr>\n",
       "    <tr>\n",
       "      <th>4</th>\n",
       "      <td>(id, dall-e-2)</td>\n",
       "      <td>(created, 1698798177)</td>\n",
       "      <td>(object, model)</td>\n",
       "      <td>(owned_by, system)</td>\n",
       "    </tr>\n",
       "    <tr>\n",
       "      <th>5</th>\n",
       "      <td>(id, gpt-4o)</td>\n",
       "      <td>(created, 1715367049)</td>\n",
       "      <td>(object, model)</td>\n",
       "      <td>(owned_by, system)</td>\n",
       "    </tr>\n",
       "    <tr>\n",
       "      <th>6</th>\n",
       "      <td>(id, gpt-4-turbo)</td>\n",
       "      <td>(created, 1712361441)</td>\n",
       "      <td>(object, model)</td>\n",
       "      <td>(owned_by, system)</td>\n",
       "    </tr>\n",
       "    <tr>\n",
       "      <th>7</th>\n",
       "      <td>(id, tts-1-hd-1106)</td>\n",
       "      <td>(created, 1699053533)</td>\n",
       "      <td>(object, model)</td>\n",
       "      <td>(owned_by, system)</td>\n",
       "    </tr>\n",
       "    <tr>\n",
       "      <th>8</th>\n",
       "      <td>(id, tts-1-hd)</td>\n",
       "      <td>(created, 1699046015)</td>\n",
       "      <td>(object, model)</td>\n",
       "      <td>(owned_by, system)</td>\n",
       "    </tr>\n",
       "    <tr>\n",
       "      <th>9</th>\n",
       "      <td>(id, gpt-4-0125-preview)</td>\n",
       "      <td>(created, 1706037612)</td>\n",
       "      <td>(object, model)</td>\n",
       "      <td>(owned_by, system)</td>\n",
       "    </tr>\n",
       "    <tr>\n",
       "      <th>10</th>\n",
       "      <td>(id, babbage-002)</td>\n",
       "      <td>(created, 1692634615)</td>\n",
       "      <td>(object, model)</td>\n",
       "      <td>(owned_by, system)</td>\n",
       "    </tr>\n",
       "    <tr>\n",
       "      <th>11</th>\n",
       "      <td>(id, gpt-4-turbo-preview)</td>\n",
       "      <td>(created, 1706037777)</td>\n",
       "      <td>(object, model)</td>\n",
       "      <td>(owned_by, system)</td>\n",
       "    </tr>\n",
       "    <tr>\n",
       "      <th>12</th>\n",
       "      <td>(id, text-embedding-3-small)</td>\n",
       "      <td>(created, 1705948997)</td>\n",
       "      <td>(object, model)</td>\n",
       "      <td>(owned_by, system)</td>\n",
       "    </tr>\n",
       "    <tr>\n",
       "      <th>13</th>\n",
       "      <td>(id, text-embedding-3-large)</td>\n",
       "      <td>(created, 1705953180)</td>\n",
       "      <td>(object, model)</td>\n",
       "      <td>(owned_by, system)</td>\n",
       "    </tr>\n",
       "    <tr>\n",
       "      <th>14</th>\n",
       "      <td>(id, gpt-3.5-turbo)</td>\n",
       "      <td>(created, 1677610602)</td>\n",
       "      <td>(object, model)</td>\n",
       "      <td>(owned_by, openai)</td>\n",
       "    </tr>\n",
       "    <tr>\n",
       "      <th>15</th>\n",
       "      <td>(id, gpt-3.5-turbo-instruct)</td>\n",
       "      <td>(created, 1692901427)</td>\n",
       "      <td>(object, model)</td>\n",
       "      <td>(owned_by, system)</td>\n",
       "    </tr>\n",
       "    <tr>\n",
       "      <th>16</th>\n",
       "      <td>(id, gpt-3.5-turbo-instruct-0914)</td>\n",
       "      <td>(created, 1694122472)</td>\n",
       "      <td>(object, model)</td>\n",
       "      <td>(owned_by, system)</td>\n",
       "    </tr>\n",
       "    <tr>\n",
       "      <th>17</th>\n",
       "      <td>(id, whisper-1)</td>\n",
       "      <td>(created, 1677532384)</td>\n",
       "      <td>(object, model)</td>\n",
       "      <td>(owned_by, openai-internal)</td>\n",
       "    </tr>\n",
       "    <tr>\n",
       "      <th>18</th>\n",
       "      <td>(id, text-embedding-ada-002)</td>\n",
       "      <td>(created, 1671217299)</td>\n",
       "      <td>(object, model)</td>\n",
       "      <td>(owned_by, openai-internal)</td>\n",
       "    </tr>\n",
       "    <tr>\n",
       "      <th>19</th>\n",
       "      <td>(id, gpt-3.5-turbo-16k)</td>\n",
       "      <td>(created, 1683758102)</td>\n",
       "      <td>(object, model)</td>\n",
       "      <td>(owned_by, openai-internal)</td>\n",
       "    </tr>\n",
       "    <tr>\n",
       "      <th>20</th>\n",
       "      <td>(id, davinci-002)</td>\n",
       "      <td>(created, 1692634301)</td>\n",
       "      <td>(object, model)</td>\n",
       "      <td>(owned_by, system)</td>\n",
       "    </tr>\n",
       "    <tr>\n",
       "      <th>21</th>\n",
       "      <td>(id, tts-1-1106)</td>\n",
       "      <td>(created, 1699053241)</td>\n",
       "      <td>(object, model)</td>\n",
       "      <td>(owned_by, system)</td>\n",
       "    </tr>\n",
       "    <tr>\n",
       "      <th>22</th>\n",
       "      <td>(id, gpt-3.5-turbo-0125)</td>\n",
       "      <td>(created, 1706048358)</td>\n",
       "      <td>(object, model)</td>\n",
       "      <td>(owned_by, system)</td>\n",
       "    </tr>\n",
       "    <tr>\n",
       "      <th>23</th>\n",
       "      <td>(id, tts-1)</td>\n",
       "      <td>(created, 1681940951)</td>\n",
       "      <td>(object, model)</td>\n",
       "      <td>(owned_by, openai-internal)</td>\n",
       "    </tr>\n",
       "    <tr>\n",
       "      <th>24</th>\n",
       "      <td>(id, gpt-3.5-turbo-1106)</td>\n",
       "      <td>(created, 1698959748)</td>\n",
       "      <td>(object, model)</td>\n",
       "      <td>(owned_by, system)</td>\n",
       "    </tr>\n",
       "    <tr>\n",
       "      <th>25</th>\n",
       "      <td>(id, gpt-4o-mini-2024-07-18)</td>\n",
       "      <td>(created, 1721172717)</td>\n",
       "      <td>(object, model)</td>\n",
       "      <td>(owned_by, system)</td>\n",
       "    </tr>\n",
       "    <tr>\n",
       "      <th>26</th>\n",
       "      <td>(id, gpt-4o-mini)</td>\n",
       "      <td>(created, 1721172741)</td>\n",
       "      <td>(object, model)</td>\n",
       "      <td>(owned_by, system)</td>\n",
       "    </tr>\n",
       "    <tr>\n",
       "      <th>27</th>\n",
       "      <td>(id, gpt-4-0613)</td>\n",
       "      <td>(created, 1686588896)</td>\n",
       "      <td>(object, model)</td>\n",
       "      <td>(owned_by, openai)</td>\n",
       "    </tr>\n",
       "    <tr>\n",
       "      <th>28</th>\n",
       "      <td>(id, gpt-4)</td>\n",
       "      <td>(created, 1687882411)</td>\n",
       "      <td>(object, model)</td>\n",
       "      <td>(owned_by, openai)</td>\n",
       "    </tr>\n",
       "  </tbody>\n",
       "</table>\n",
       "</div>"
      ],
      "text/plain": [
       "                               models               creation             type  \\\n",
       "0                      (id, dall-e-3)  (created, 1698785189)  (object, model)   \n",
       "1             (id, gpt-4o-2024-05-13)  (created, 1715368132)  (object, model)   \n",
       "2        (id, gpt-4-turbo-2024-04-09)  (created, 1712601677)  (object, model)   \n",
       "3            (id, gpt-4-1106-preview)  (created, 1698957206)  (object, model)   \n",
       "4                      (id, dall-e-2)  (created, 1698798177)  (object, model)   \n",
       "5                        (id, gpt-4o)  (created, 1715367049)  (object, model)   \n",
       "6                   (id, gpt-4-turbo)  (created, 1712361441)  (object, model)   \n",
       "7                 (id, tts-1-hd-1106)  (created, 1699053533)  (object, model)   \n",
       "8                      (id, tts-1-hd)  (created, 1699046015)  (object, model)   \n",
       "9            (id, gpt-4-0125-preview)  (created, 1706037612)  (object, model)   \n",
       "10                  (id, babbage-002)  (created, 1692634615)  (object, model)   \n",
       "11          (id, gpt-4-turbo-preview)  (created, 1706037777)  (object, model)   \n",
       "12       (id, text-embedding-3-small)  (created, 1705948997)  (object, model)   \n",
       "13       (id, text-embedding-3-large)  (created, 1705953180)  (object, model)   \n",
       "14                (id, gpt-3.5-turbo)  (created, 1677610602)  (object, model)   \n",
       "15       (id, gpt-3.5-turbo-instruct)  (created, 1692901427)  (object, model)   \n",
       "16  (id, gpt-3.5-turbo-instruct-0914)  (created, 1694122472)  (object, model)   \n",
       "17                    (id, whisper-1)  (created, 1677532384)  (object, model)   \n",
       "18       (id, text-embedding-ada-002)  (created, 1671217299)  (object, model)   \n",
       "19            (id, gpt-3.5-turbo-16k)  (created, 1683758102)  (object, model)   \n",
       "20                  (id, davinci-002)  (created, 1692634301)  (object, model)   \n",
       "21                   (id, tts-1-1106)  (created, 1699053241)  (object, model)   \n",
       "22           (id, gpt-3.5-turbo-0125)  (created, 1706048358)  (object, model)   \n",
       "23                        (id, tts-1)  (created, 1681940951)  (object, model)   \n",
       "24           (id, gpt-3.5-turbo-1106)  (created, 1698959748)  (object, model)   \n",
       "25       (id, gpt-4o-mini-2024-07-18)  (created, 1721172717)  (object, model)   \n",
       "26                  (id, gpt-4o-mini)  (created, 1721172741)  (object, model)   \n",
       "27                   (id, gpt-4-0613)  (created, 1686588896)  (object, model)   \n",
       "28                        (id, gpt-4)  (created, 1687882411)  (object, model)   \n",
       "\n",
       "                          owner  \n",
       "0            (owned_by, system)  \n",
       "1            (owned_by, system)  \n",
       "2            (owned_by, system)  \n",
       "3            (owned_by, system)  \n",
       "4            (owned_by, system)  \n",
       "5            (owned_by, system)  \n",
       "6            (owned_by, system)  \n",
       "7            (owned_by, system)  \n",
       "8            (owned_by, system)  \n",
       "9            (owned_by, system)  \n",
       "10           (owned_by, system)  \n",
       "11           (owned_by, system)  \n",
       "12           (owned_by, system)  \n",
       "13           (owned_by, system)  \n",
       "14           (owned_by, openai)  \n",
       "15           (owned_by, system)  \n",
       "16           (owned_by, system)  \n",
       "17  (owned_by, openai-internal)  \n",
       "18  (owned_by, openai-internal)  \n",
       "19  (owned_by, openai-internal)  \n",
       "20           (owned_by, system)  \n",
       "21           (owned_by, system)  \n",
       "22           (owned_by, system)  \n",
       "23  (owned_by, openai-internal)  \n",
       "24           (owned_by, system)  \n",
       "25           (owned_by, system)  \n",
       "26           (owned_by, system)  \n",
       "27           (owned_by, openai)  \n",
       "28           (owned_by, openai)  "
      ]
     },
     "execution_count": 6,
     "metadata": {},
     "output_type": "execute_result"
    }
   ],
   "source": [
    "# View the models list in a dataframe\n",
    "import pandas as pd\n",
    "\n",
    "df = pd.DataFrame(all_models, columns=[\"models\", \"creation\", \"type\", \"owner\"])\n",
    "df"
   ]
  },
  {
   "cell_type": "markdown",
   "metadata": {},
   "source": [
    "## 02. OpenAI Playground\n",
    "\n",
    "> __Note:__ Make sure you have credit available.\n",
    "\n",
    "1. Open the [OpenAI Playground](https://platform.openai.com/playground/chat)\n",
    "\n",
    "![OpenAI Playground Chat](https://miro.medium.com/v2/1*G0vHGmkwRO8DtqWRNXpksA.png)\n",
    "\n",
    "\n",
    "In above screenshot, \n",
    "\n",
    "- **System** sets the behaviour of the playground chat.\n",
    "\n",
    "- **Models** can be choosen from the dropdown menu.\n",
    "\n",
    "Parameters to consider:\n",
    "\n",
    "| **Parameter**        | **Description**                                                                                   |\n",
    "|----------------------|---------------------------------------------------------------------------------------------------|\n",
    "| **Temperature**      | Controls the randomness of the output. Lower values (e.g., 0.2) make responses more deterministic; higher values (e.g., 1.0) increase creativity. |\n",
    "| **Maximum Tokens**  | Specifies the maximum number of tokens (words or pieces of words) the model can generate in one response. |\n",
    "| **Stop Sequences**   | Defines specific sequences of tokens where the model should stop generating further text.         |\n",
    "| **Top P**            | Limits the next token selection to a subset of tokens whose cumulative probability exceeds a certain threshold (p). Balances randomness and coherence. |\n",
    "| **Frequency Penalty**| Adjusts the likelihood of tokens that have already appeared in the output to reduce repetition.     |\n",
    "| **Presence Penalty** | Penalizes any token that has already appeared in the output, regardless of its frequency.          | \n",
    "\n",
    "</br> \n",
    "\n",
    "- You can enter your own prompt in the input field and click **Generate** to see the AI's response.\n",
    "\n",
    "2. For more advanced AI capabilities, you can use the **OpenAI API** directly in your Python code. An example of how to use the GPT models to generate text based on a given prompt can be shown in the Playground's **View Code** Section\n",
    "\n",
    "![View Code](https://global.discourse-cdn.com/openai1/original/4X/6/d/7/6d7ec36c7a95ccbb35668186d782b3731e4fac26.png)\n"
   ]
  },
  {
   "cell_type": "markdown",
   "metadata": {
    "notebookRunGroups": {
     "groupValue": "1"
    }
   },
   "source": [
    "## 03. Chat Completion API\n",
    "\n",
    "- **`openai.completions.create()` _[Legacy]_**: This method is used to generate completions or responses. You provide a series of prompts as input, and the API generates a model-generated response as output.\n",
    "\n",
    "> Note: You can use this by installing old `openai` library package "
   ]
  },
  {
   "cell_type": "code",
   "execution_count": 7,
   "metadata": {},
   "outputs": [
    {
     "ename": "APIRemovedInV1",
     "evalue": "\n\nYou tried to access openai.Completion, but this is no longer supported in openai>=1.0.0 - see the README at https://github.com/openai/openai-python for the API.\n\nYou can run `openai migrate` to automatically upgrade your codebase to use the 1.0.0 interface. \n\nAlternatively, you can pin your installation to the old version, e.g. `pip install openai==0.28`\n\nA detailed migration guide is available here: https://github.com/openai/openai-python/discussions/742\n",
     "output_type": "error",
     "traceback": [
      "\u001b[0;31m---------------------------------------------------------------------------\u001b[0m",
      "\u001b[0;31mAPIRemovedInV1\u001b[0m                            Traceback (most recent call last)",
      "Cell \u001b[0;32mIn[7], line 2\u001b[0m\n\u001b[1;32m      1\u001b[0m \u001b[38;5;66;03m# Legacy method (depreciated)\u001b[39;00m\n\u001b[0;32m----> 2\u001b[0m \u001b[43mopenai\u001b[49m\u001b[38;5;241;43m.\u001b[39;49m\u001b[43mCompletion\u001b[49m\u001b[38;5;241;43m.\u001b[39;49m\u001b[43mcreate\u001b[49m\u001b[43m(\u001b[49m\n\u001b[1;32m      3\u001b[0m \u001b[43m    \u001b[49m\u001b[43mmodel\u001b[49m\u001b[38;5;241;43m=\u001b[39;49m\u001b[38;5;124;43m\"\u001b[39;49m\u001b[38;5;124;43mgpt-3.5\u001b[39;49m\u001b[38;5;124;43m\"\u001b[39;49m\u001b[43m,\u001b[49m\n\u001b[1;32m      4\u001b[0m \u001b[43m    \u001b[49m\u001b[43mprompt\u001b[49m\u001b[38;5;241;43m=\u001b[39;49m\u001b[38;5;124;43m\"\u001b[39;49m\u001b[38;5;124;43mGenerate a sentence about Genarative AI\u001b[39;49m\u001b[38;5;124;43m\"\u001b[39;49m\u001b[43m,\u001b[49m\n\u001b[1;32m      5\u001b[0m \u001b[43m    \u001b[49m\u001b[43mtemperature\u001b[49m\u001b[38;5;241;43m=\u001b[39;49m\u001b[38;5;241;43m0.7\u001b[39;49m\u001b[43m,\u001b[49m\n\u001b[1;32m      6\u001b[0m \u001b[43m    \u001b[49m\u001b[43mmax_tokens\u001b[49m\u001b[38;5;241;43m=\u001b[39;49m\u001b[38;5;241;43m128\u001b[39;49m\u001b[43m,\u001b[49m\n\u001b[1;32m      7\u001b[0m \u001b[43m    \u001b[49m\u001b[43mn\u001b[49m\u001b[38;5;241;43m=\u001b[39;49m\u001b[38;5;241;43m1\u001b[39;49m\n\u001b[1;32m      8\u001b[0m \u001b[43m)\u001b[49m\n",
      "File \u001b[0;32m~/Desktop/LangChain-Generative-AI/env/lib/python3.11/site-packages/openai/lib/_old_api.py:39\u001b[0m, in \u001b[0;36mAPIRemovedInV1Proxy.__call__\u001b[0;34m(self, *_args, **_kwargs)\u001b[0m\n\u001b[1;32m     38\u001b[0m \u001b[38;5;28;01mdef\u001b[39;00m \u001b[38;5;21m__call__\u001b[39m(\u001b[38;5;28mself\u001b[39m, \u001b[38;5;241m*\u001b[39m_args: Any, \u001b[38;5;241m*\u001b[39m\u001b[38;5;241m*\u001b[39m_kwargs: Any) \u001b[38;5;241m-\u001b[39m\u001b[38;5;241m>\u001b[39m Any:\n\u001b[0;32m---> 39\u001b[0m     \u001b[38;5;28;01mraise\u001b[39;00m APIRemovedInV1(symbol\u001b[38;5;241m=\u001b[39m\u001b[38;5;28mself\u001b[39m\u001b[38;5;241m.\u001b[39m_symbol)\n",
      "\u001b[0;31mAPIRemovedInV1\u001b[0m: \n\nYou tried to access openai.Completion, but this is no longer supported in openai>=1.0.0 - see the README at https://github.com/openai/openai-python for the API.\n\nYou can run `openai migrate` to automatically upgrade your codebase to use the 1.0.0 interface. \n\nAlternatively, you can pin your installation to the old version, e.g. `pip install openai==0.28`\n\nA detailed migration guide is available here: https://github.com/openai/openai-python/discussions/742\n"
     ]
    }
   ],
   "source": [
    "# Legacy method (depreciated)\n",
    "openai.Completion.create(\n",
    "    model=\"gpt-3.5\",\n",
    "    prompt=\"Generate a sentence about Genarative AI\",\n",
    "    temperature=0.7,\n",
    "    max_tokens=128,\n",
    "    n=1\n",
    ")"
   ]
  },
  {
   "cell_type": "markdown",
   "metadata": {},
   "source": [
    "- **`openai.chat.completions.create()` _[New]_**: This method is similar to `openai.completions.create()` but is specifically designed for chat-based language models. It takes a series of messages as input and generates a model-generated response as output."
   ]
  },
  {
   "cell_type": "code",
   "execution_count": 10,
   "metadata": {},
   "outputs": [],
   "source": [
    "# New chat completion method\n",
    "from openai import OpenAI\n",
    "client = OpenAI(api_key=openai_key)\n",
    "\n",
    "response = client.chat.completions.create(\n",
    "    model=\"gpt-3.5-turbo\",\n",
    "    messages=[\n",
    "        {\n",
    "          \"role\": \"system\",\n",
    "          \"content\": \"Generate a paragraph about Generative AI\"\n",
    "        }\n",
    "    ],\n",
    "    temperature=1,\n",
    "    max_tokens=256,\n",
    "    top_p=1,\n",
    "    frequency_penalty=0,\n",
    "    presence_penalty=0\n",
    ")"
   ]
  },
  {
   "cell_type": "code",
   "execution_count": 11,
   "metadata": {},
   "outputs": [
    {
     "data": {
      "text/plain": [
       "ChatCompletion(id='chatcmpl-9ooZTKrq6qW0uGhPNxLRPJvuPzuI1', choices=[Choice(finish_reason='stop', index=0, logprobs=None, message=ChatCompletionMessage(content='Generative AI is a category of artificial intelligence algorithms that can produce new, original content by learning patterns from existing data. These algorithms are commonly used in various fields such as text generation, image synthesis, music composition, and even video creation. Generative AI can create highly realistic and convincing outputs that mimic human creativity, making it a valuable tool for artists, designers, and other creative professionals. However, there are ethical concerns surrounding the potential misuse of generative AI, such as creating fake news, deepfakes, or other malicious content. Despite these challenges, generative AI continues to advance rapidly, pushing the boundaries of what is possible in the realm of artificial intelligence.', role='assistant', function_call=None, tool_calls=None))], created=1721897823, model='gpt-3.5-turbo-0125', object='chat.completion', service_tier=None, system_fingerprint=None, usage=CompletionUsage(completion_tokens=134, prompt_tokens=14, total_tokens=148))"
      ]
     },
     "execution_count": 11,
     "metadata": {},
     "output_type": "execute_result"
    }
   ],
   "source": [
    "# Display the response\n",
    "response"
   ]
  },
  {
   "cell_type": "code",
   "execution_count": 12,
   "metadata": {},
   "outputs": [
    {
     "data": {
      "text/plain": [
       "openai.types.chat.chat_completion.ChatCompletion"
      ]
     },
     "execution_count": 12,
     "metadata": {},
     "output_type": "execute_result"
    }
   ],
   "source": [
    "# Check what type of response did we get\n",
    "type(response)"
   ]
  },
  {
   "cell_type": "code",
   "execution_count": 13,
   "metadata": {},
   "outputs": [
    {
     "data": {
      "text/plain": [
       "[Choice(finish_reason='stop', index=0, logprobs=None, message=ChatCompletionMessage(content='Generative AI is a category of artificial intelligence algorithms that can produce new, original content by learning patterns from existing data. These algorithms are commonly used in various fields such as text generation, image synthesis, music composition, and even video creation. Generative AI can create highly realistic and convincing outputs that mimic human creativity, making it a valuable tool for artists, designers, and other creative professionals. However, there are ethical concerns surrounding the potential misuse of generative AI, such as creating fake news, deepfakes, or other malicious content. Despite these challenges, generative AI continues to advance rapidly, pushing the boundaries of what is possible in the realm of artificial intelligence.', role='assistant', function_call=None, tool_calls=None))]"
      ]
     },
     "execution_count": 13,
     "metadata": {},
     "output_type": "execute_result"
    }
   ],
   "source": [
    "response.choices"
   ]
  },
  {
   "cell_type": "code",
   "execution_count": 14,
   "metadata": {},
   "outputs": [
    {
     "data": {
      "text/plain": [
       "'Generative AI is a category of artificial intelligence algorithms that can produce new, original content by learning patterns from existing data. These algorithms are commonly used in various fields such as text generation, image synthesis, music composition, and even video creation. Generative AI can create highly realistic and convincing outputs that mimic human creativity, making it a valuable tool for artists, designers, and other creative professionals. However, there are ethical concerns surrounding the potential misuse of generative AI, such as creating fake news, deepfakes, or other malicious content. Despite these challenges, generative AI continues to advance rapidly, pushing the boundaries of what is possible in the realm of artificial intelligence.'"
      ]
     },
     "execution_count": 14,
     "metadata": {},
     "output_type": "execute_result"
    }
   ],
   "source": [
    "# Call the 1st index and message list\n",
    "response.choices[0].message.content"
   ]
  },
  {
   "cell_type": "code",
   "execution_count": 15,
   "metadata": {},
   "outputs": [
    {
     "data": {
      "text/html": [
       "Generative AI is a category of artificial intelligence algorithms that can produce new, original content by learning patterns from existing data. These algorithms are commonly used in various fields such as text generation, image synthesis, music composition, and even video creation. Generative AI can create highly realistic and convincing outputs that mimic human creativity, making it a valuable tool for artists, designers, and other creative professionals. However, there are ethical concerns surrounding the potential misuse of generative AI, such as creating fake news, deepfakes, or other malicious content. Despite these challenges, generative AI continues to advance rapidly, pushing the boundaries of what is possible in the realm of artificial intelligence."
      ],
      "text/plain": [
       "<IPython.core.display.HTML object>"
      ]
     },
     "metadata": {},
     "output_type": "display_data"
    }
   ],
   "source": [
    "# Display in the form of HTML\n",
    "from IPython.display import display, HTML\n",
    "\n",
    "html_content = response.choices[0].message.content\n",
    "display(HTML(html_content))"
   ]
  },
  {
   "cell_type": "code",
   "execution_count": 16,
   "metadata": {},
   "outputs": [],
   "source": [
    "# Chat completion method with `n` parameter\n",
    "multiple_response = client.chat.completions.create(\n",
    "    model=\"gpt-3.5-turbo\",\n",
    "    messages=[\n",
    "        {\n",
    "          \"role\": \"system\",\n",
    "          \"content\": \"Generate a small paragraph about World Cup 2022\"\n",
    "        }\n",
    "    ],\n",
    "    temperature=1,\n",
    "    max_tokens=128,\n",
    "    n=3,                # Generate `n=3` responses\n",
    "    top_p=1,\n",
    "    frequency_penalty=0,\n",
    "    presence_penalty=0\n",
    ")"
   ]
  },
  {
   "cell_type": "markdown",
   "metadata": {},
   "source": []
  },
  {
   "cell_type": "code",
   "execution_count": 17,
   "metadata": {},
   "outputs": [
    {
     "data": {
      "text/plain": [
       "[Choice(finish_reason='stop', index=0, logprobs=None, message=ChatCompletionMessage(content=\"The highly anticipated FIFA World Cup 2022 is set to take place in Qatar, marking the first time the tournament will be held in the Middle East. With its innovative stadium designs and commitment to sustainability, this World Cup promises to be one of the most unique and environmentally conscious events in the tournament's history. Football fans from around the globe are eagerly awaiting the chance to witness world-class players compete on the grandest stage of all in this groundbreaking edition of the World Cup.\", role='assistant', function_call=None, tool_calls=None)),\n",
       " Choice(finish_reason='stop', index=1, logprobs=None, message=ChatCompletionMessage(content=\"The highly anticipated FIFA World Cup 2022 is set to take place in Qatar, making it the first World Cup ever to be held in the Middle East. The tournament is scheduled to run from November to December, a departure from the traditional summer scheduling due to the extreme heat in Qatar during those months. Fans from around the globe are eagerly awaiting the opportunity to witness the world's top football teams compete for the prestigious title, promising thrilling matches and unforgettable moments on the pitch.\", role='assistant', function_call=None, tool_calls=None)),\n",
       " Choice(finish_reason='stop', index=2, logprobs=None, message=ChatCompletionMessage(content='The FIFA World Cup 2022 is set to be held in Qatar, making it the first time the tournament will be hosted in the Middle East. The event is scheduled to take place from November to December, rather than the traditional summertime scheduling, to avoid the extreme heat of the Qatari summer. The tournament is expected to bring together teams from around the world to compete for the prestigious title, in state-of-the-art stadiums that have been constructed specifically for the event. With its unique location and innovative approach to hosting, the World Cup 2022 promises to be a memorable and exciting sporting spectacle.', role='assistant', function_call=None, tool_calls=None))]"
      ]
     },
     "execution_count": 17,
     "metadata": {},
     "output_type": "execute_result"
    }
   ],
   "source": [
    "multiple_response.choices"
   ]
  },
  {
   "cell_type": "code",
   "execution_count": 34,
   "metadata": {},
   "outputs": [
    {
     "name": "stdout",
     "output_type": "stream",
     "text": [
      "Response 1\n"
     ]
    },
    {
     "data": {
      "text/html": [
       "The highly anticipated FIFA World Cup 2022 is set to take place in Qatar, marking the first time the tournament will be held in the Middle East. With its innovative stadium designs and commitment to sustainability, this World Cup promises to be one of the most unique and environmentally conscious events in the tournament's history. Football fans from around the globe are eagerly awaiting the chance to witness world-class players compete on the grandest stage of all in this groundbreaking edition of the World Cup."
      ],
      "text/plain": [
       "<IPython.core.display.HTML object>"
      ]
     },
     "metadata": {},
     "output_type": "display_data"
    },
    {
     "name": "stdout",
     "output_type": "stream",
     "text": [
      "Response 2\n"
     ]
    },
    {
     "data": {
      "text/html": [
       "The highly anticipated FIFA World Cup 2022 is set to take place in Qatar, making it the first World Cup ever to be held in the Middle East. The tournament is scheduled to run from November to December, a departure from the traditional summer scheduling due to the extreme heat in Qatar during those months. Fans from around the globe are eagerly awaiting the opportunity to witness the world's top football teams compete for the prestigious title, promising thrilling matches and unforgettable moments on the pitch."
      ],
      "text/plain": [
       "<IPython.core.display.HTML object>"
      ]
     },
     "metadata": {},
     "output_type": "display_data"
    },
    {
     "name": "stdout",
     "output_type": "stream",
     "text": [
      "Response 3\n"
     ]
    },
    {
     "data": {
      "text/html": [
       "The FIFA World Cup 2022 is set to be held in Qatar, making it the first time the tournament will be hosted in the Middle East. The event is scheduled to take place from November to December, rather than the traditional summertime scheduling, to avoid the extreme heat of the Qatari summer. The tournament is expected to bring together teams from around the world to compete for the prestigious title, in state-of-the-art stadiums that have been constructed specifically for the event. With its unique location and innovative approach to hosting, the World Cup 2022 promises to be a memorable and exciting sporting spectacle."
      ],
      "text/plain": [
       "<IPython.core.display.HTML object>"
      ]
     },
     "metadata": {},
     "output_type": "display_data"
    }
   ],
   "source": [
    "for i in range(3):\n",
    "    print(f\"Response {i+1}\")\n",
    "    display(HTML(multiple_response.choices[i].message.content))"
   ]
  },
  {
   "cell_type": "markdown",
   "metadata": {},
   "source": [
    "## 04. OpenAI Tokenizer\n",
    "\n",
    "You can count tokens by pasting one of the responses above into the [__OpenAI Tokenizer__](https://platform.openai.com/tokenizer) website.\n",
    "\n",
    "![OpenAi Tokenizer](https://microsoft.github.io/Workshop-Interact-with-OpenAI-models/assets/images/tokenizer-example-30354110d0fda1fedd261a2223fd80c8.png)"
   ]
  },
  {
   "cell_type": "markdown",
   "metadata": {},
   "source": []
  },
  {
   "cell_type": "markdown",
   "metadata": {},
   "source": [
    "### OpenAI Pricing \n",
    "\n",
    "You can also find pricing per thousand tokens and per million tokens into the [__OpenAI Pricing__](https://openai.com/api/pricing/) website.\n"
   ]
  }
 ],
 "metadata": {
  "kernelspec": {
   "display_name": "env",
   "language": "python",
   "name": "python3"
  },
  "language_info": {
   "codemirror_mode": {
    "name": "ipython",
    "version": 3
   },
   "file_extension": ".py",
   "mimetype": "text/x-python",
   "name": "python",
   "nbconvert_exporter": "python",
   "pygments_lexer": "ipython3",
   "version": "3.11.6"
  }
 },
 "nbformat": 4,
 "nbformat_minor": 2
}
